{
 "cells": [
  {
   "cell_type": "code",
   "execution_count": null,
   "id": "5668deaa",
   "metadata": {},
   "outputs": [],
   "source": [
    "def find_indexes(data, search_string):\n",
    "    if isinstance(data, pd.DataFrame):\n",
    "        result = []\n",
    "        for i, row in data.iterrows():\n",
    "            for j, value in enumerate(row):\n",
    "                if search_string in str(value):\n",
    "                    result.append((i, j))\n",
    "        return result\n",
    "    elif isinstance(data, pd.Series):\n",
    "        result = []\n",
    "        for i, value in data.iteritems():\n",
    "            if search_string in str(value):\n",
    "                result.append(i)\n",
    "        return result\n",
    "    else:\n",
    "        raise ValueError(\"Input must be a DataFrame or Series\")"
   ]
  }
 ],
 "metadata": {
  "kernelspec": {
   "display_name": "Python 3",
   "language": "python",
   "name": "python3"
  },
  "language_info": {
   "codemirror_mode": {
    "name": "ipython",
    "version": 3
   },
   "file_extension": ".py",
   "mimetype": "text/x-python",
   "name": "python",
   "nbconvert_exporter": "python",
   "pygments_lexer": "ipython3",
   "version": "3.8.8"
  }
 },
 "nbformat": 4,
 "nbformat_minor": 5
}
