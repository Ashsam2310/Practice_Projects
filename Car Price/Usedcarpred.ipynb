{
 "cells": [
  {
   "cell_type": "code",
   "execution_count": 1,
   "metadata": {},
   "outputs": [],
   "source": [
    "import pandas as pd\n",
    "import numpy as np\n",
    "import seaborn as sns\n",
    "import matplotlib.pyplot as plt"
   ]
  },
  {
   "cell_type": "code",
   "execution_count": 2,
   "metadata": {},
   "outputs": [
    {
     "data": {
      "text/html": [
       "<div>\n",
       "<style scoped>\n",
       "    .dataframe tbody tr th:only-of-type {\n",
       "        vertical-align: middle;\n",
       "    }\n",
       "\n",
       "    .dataframe tbody tr th {\n",
       "        vertical-align: top;\n",
       "    }\n",
       "\n",
       "    .dataframe thead th {\n",
       "        text-align: right;\n",
       "    }\n",
       "</style>\n",
       "<table border=\"1\" class=\"dataframe\">\n",
       "  <thead>\n",
       "    <tr style=\"text-align: right;\">\n",
       "      <th></th>\n",
       "      <th>Unnamed: 0</th>\n",
       "      <th>Unnamed: 0.1</th>\n",
       "      <th>price</th>\n",
       "      <th>year</th>\n",
       "      <th>brand</th>\n",
       "      <th>model</th>\n",
       "      <th>variant</th>\n",
       "      <th>kms</th>\n",
       "      <th>owner</th>\n",
       "      <th>Fuel</th>\n",
       "      <th>location</th>\n",
       "    </tr>\n",
       "  </thead>\n",
       "  <tbody>\n",
       "    <tr>\n",
       "      <th>0</th>\n",
       "      <td>0</td>\n",
       "      <td>0.0</td>\n",
       "      <td>₹4,55,299</td>\n",
       "      <td>2015</td>\n",
       "      <td>Maruti</td>\n",
       "      <td>Swift</td>\n",
       "      <td>VDI ABS Manual</td>\n",
       "      <td>76,264 km</td>\n",
       "      <td>1st Owner</td>\n",
       "      <td>Diesel</td>\n",
       "      <td>New Delhi</td>\n",
       "    </tr>\n",
       "    <tr>\n",
       "      <th>1</th>\n",
       "      <td>1</td>\n",
       "      <td>1.0</td>\n",
       "      <td>₹5,35,899</td>\n",
       "      <td>2013</td>\n",
       "      <td>Toyota</td>\n",
       "      <td>Innova</td>\n",
       "      <td>2.5 GX 7 STR BS IV Manual</td>\n",
       "      <td>1,38,351 km</td>\n",
       "      <td>2nd Owner</td>\n",
       "      <td>Diesel</td>\n",
       "      <td>New Delhi</td>\n",
       "    </tr>\n",
       "    <tr>\n",
       "      <th>2</th>\n",
       "      <td>2</td>\n",
       "      <td>2.0</td>\n",
       "      <td>₹3,30,599</td>\n",
       "      <td>2014</td>\n",
       "      <td>Maruti</td>\n",
       "      <td>Swift</td>\n",
       "      <td>VDI Manual</td>\n",
       "      <td>71,450 km</td>\n",
       "      <td>2nd Owner</td>\n",
       "      <td>Diesel</td>\n",
       "      <td>New Delhi</td>\n",
       "    </tr>\n",
       "    <tr>\n",
       "      <th>3</th>\n",
       "      <td>3</td>\n",
       "      <td>3.0</td>\n",
       "      <td>₹4,05,199</td>\n",
       "      <td>2015</td>\n",
       "      <td>Maruti</td>\n",
       "      <td>Swift</td>\n",
       "      <td>VDI ABS Manual</td>\n",
       "      <td>37,925 km</td>\n",
       "      <td>1st Owner</td>\n",
       "      <td>Diesel</td>\n",
       "      <td>New Delhi</td>\n",
       "    </tr>\n",
       "    <tr>\n",
       "      <th>4</th>\n",
       "      <td>4</td>\n",
       "      <td>4.0</td>\n",
       "      <td>₹12,71,199</td>\n",
       "      <td>2020</td>\n",
       "      <td>Honda</td>\n",
       "      <td>City</td>\n",
       "      <td>ZX CVT Automatic</td>\n",
       "      <td>10,322 km</td>\n",
       "      <td>1st Owner</td>\n",
       "      <td>Petrol</td>\n",
       "      <td>New Delhi</td>\n",
       "    </tr>\n",
       "    <tr>\n",
       "      <th>...</th>\n",
       "      <td>...</td>\n",
       "      <td>...</td>\n",
       "      <td>...</td>\n",
       "      <td>...</td>\n",
       "      <td>...</td>\n",
       "      <td>...</td>\n",
       "      <td>...</td>\n",
       "      <td>...</td>\n",
       "      <td>...</td>\n",
       "      <td>...</td>\n",
       "      <td>...</td>\n",
       "    </tr>\n",
       "    <tr>\n",
       "      <th>5006</th>\n",
       "      <td>139</td>\n",
       "      <td>NaN</td>\n",
       "      <td>9,75,000</td>\n",
       "      <td>2016</td>\n",
       "      <td>Hyundai</td>\n",
       "      <td>Creta</td>\n",
       "      <td>1.6 SX Opt Diesel</td>\n",
       "      <td>63,314Km</td>\n",
       "      <td>First Owner</td>\n",
       "      <td>Diesel</td>\n",
       "      <td>Surat</td>\n",
       "    </tr>\n",
       "    <tr>\n",
       "      <th>5007</th>\n",
       "      <td>140</td>\n",
       "      <td>NaN</td>\n",
       "      <td>3,75,950</td>\n",
       "      <td>2011</td>\n",
       "      <td>Mahindra</td>\n",
       "      <td>Scorpio</td>\n",
       "      <td>VLX 2WD AIRBAG BS III</td>\n",
       "      <td>79,362Km</td>\n",
       "      <td>Third Owner</td>\n",
       "      <td>Diesel</td>\n",
       "      <td>Surat</td>\n",
       "    </tr>\n",
       "    <tr>\n",
       "      <th>5008</th>\n",
       "      <td>141</td>\n",
       "      <td>NaN</td>\n",
       "      <td>4,35,000</td>\n",
       "      <td>2013</td>\n",
       "      <td>Renault</td>\n",
       "      <td>Duster</td>\n",
       "      <td>110 PS RXL 4X2 MT</td>\n",
       "      <td>65,100Km</td>\n",
       "      <td>First Owner</td>\n",
       "      <td>Diesel</td>\n",
       "      <td>Surat</td>\n",
       "    </tr>\n",
       "    <tr>\n",
       "      <th>5009</th>\n",
       "      <td>142</td>\n",
       "      <td>NaN</td>\n",
       "      <td>1,56,000</td>\n",
       "      <td>2013</td>\n",
       "      <td>Chevrolet</td>\n",
       "      <td>Beat</td>\n",
       "      <td>LS Diesel</td>\n",
       "      <td>77,000Km</td>\n",
       "      <td>First Owner</td>\n",
       "      <td>Diesel</td>\n",
       "      <td>Surat</td>\n",
       "    </tr>\n",
       "    <tr>\n",
       "      <th>5010</th>\n",
       "      <td>143</td>\n",
       "      <td>NaN</td>\n",
       "      <td>2,83,250</td>\n",
       "      <td>2011</td>\n",
       "      <td>Maruti</td>\n",
       "      <td>Swift</td>\n",
       "      <td>DZire VXi</td>\n",
       "      <td>62,000Km</td>\n",
       "      <td>Second Owner</td>\n",
       "      <td>Petrol</td>\n",
       "      <td>Surat</td>\n",
       "    </tr>\n",
       "  </tbody>\n",
       "</table>\n",
       "<p>5011 rows × 11 columns</p>\n",
       "</div>"
      ],
      "text/plain": [
       "      Unnamed: 0  Unnamed: 0.1       price  year      brand    model  \\\n",
       "0              0           0.0   ₹4,55,299  2015     Maruti    Swift   \n",
       "1              1           1.0   ₹5,35,899  2013     Toyota   Innova   \n",
       "2              2           2.0   ₹3,30,599  2014     Maruti    Swift   \n",
       "3              3           3.0   ₹4,05,199  2015     Maruti    Swift   \n",
       "4              4           4.0  ₹12,71,199  2020      Honda     City   \n",
       "...          ...           ...         ...   ...        ...      ...   \n",
       "5006         139           NaN    9,75,000  2016    Hyundai    Creta   \n",
       "5007         140           NaN    3,75,950  2011   Mahindra  Scorpio   \n",
       "5008         141           NaN    4,35,000  2013    Renault   Duster   \n",
       "5009         142           NaN    1,56,000  2013  Chevrolet     Beat   \n",
       "5010         143           NaN    2,83,250  2011     Maruti    Swift   \n",
       "\n",
       "                        variant          kms         owner    Fuel   location  \n",
       "0                VDI ABS Manual    76,264 km     1st Owner  Diesel  New Delhi  \n",
       "1     2.5 GX 7 STR BS IV Manual  1,38,351 km     2nd Owner  Diesel  New Delhi  \n",
       "2                    VDI Manual    71,450 km     2nd Owner  Diesel  New Delhi  \n",
       "3                VDI ABS Manual    37,925 km     1st Owner  Diesel  New Delhi  \n",
       "4              ZX CVT Automatic    10,322 km     1st Owner  Petrol  New Delhi  \n",
       "...                         ...          ...           ...     ...        ...  \n",
       "5006          1.6 SX Opt Diesel     63,314Km   First Owner  Diesel      Surat  \n",
       "5007      VLX 2WD AIRBAG BS III     79,362Km   Third Owner  Diesel      Surat  \n",
       "5008          110 PS RXL 4X2 MT     65,100Km   First Owner  Diesel      Surat  \n",
       "5009                  LS Diesel     77,000Km   First Owner  Diesel      Surat  \n",
       "5010                  DZire VXi     62,000Km  Second Owner  Petrol      Surat  \n",
       "\n",
       "[5011 rows x 11 columns]"
      ]
     },
     "execution_count": 2,
     "metadata": {},
     "output_type": "execute_result"
    }
   ],
   "source": [
    "df=pd.read_csv('cardata1.csv')\n",
    "df"
   ]
  },
  {
   "cell_type": "code",
   "execution_count": 3,
   "metadata": {},
   "outputs": [],
   "source": [
    "df.drop(['Unnamed: 0','Unnamed: 0.1'],axis=1,inplace=True)"
   ]
  },
  {
   "cell_type": "code",
   "execution_count": 5,
   "metadata": {},
   "outputs": [
    {
     "data": {
      "text/html": [
       "<div>\n",
       "<style scoped>\n",
       "    .dataframe tbody tr th:only-of-type {\n",
       "        vertical-align: middle;\n",
       "    }\n",
       "\n",
       "    .dataframe tbody tr th {\n",
       "        vertical-align: top;\n",
       "    }\n",
       "\n",
       "    .dataframe thead th {\n",
       "        text-align: right;\n",
       "    }\n",
       "</style>\n",
       "<table border=\"1\" class=\"dataframe\">\n",
       "  <thead>\n",
       "    <tr style=\"text-align: right;\">\n",
       "      <th></th>\n",
       "      <th>price</th>\n",
       "      <th>year</th>\n",
       "      <th>brand</th>\n",
       "      <th>model</th>\n",
       "      <th>variant</th>\n",
       "      <th>kms</th>\n",
       "      <th>owner</th>\n",
       "      <th>Fuel</th>\n",
       "      <th>location</th>\n",
       "    </tr>\n",
       "  </thead>\n",
       "  <tbody>\n",
       "    <tr>\n",
       "      <th>0</th>\n",
       "      <td>₹4,55,299</td>\n",
       "      <td>2015</td>\n",
       "      <td>Maruti</td>\n",
       "      <td>Swift</td>\n",
       "      <td>VDI ABS Manual</td>\n",
       "      <td>76,264 km</td>\n",
       "      <td>1st Owner</td>\n",
       "      <td>Diesel</td>\n",
       "      <td>New Delhi</td>\n",
       "    </tr>\n",
       "    <tr>\n",
       "      <th>1</th>\n",
       "      <td>₹5,35,899</td>\n",
       "      <td>2013</td>\n",
       "      <td>Toyota</td>\n",
       "      <td>Innova</td>\n",
       "      <td>2.5 GX 7 STR BS IV Manual</td>\n",
       "      <td>1,38,351 km</td>\n",
       "      <td>2nd Owner</td>\n",
       "      <td>Diesel</td>\n",
       "      <td>New Delhi</td>\n",
       "    </tr>\n",
       "    <tr>\n",
       "      <th>2</th>\n",
       "      <td>₹3,30,599</td>\n",
       "      <td>2014</td>\n",
       "      <td>Maruti</td>\n",
       "      <td>Swift</td>\n",
       "      <td>VDI Manual</td>\n",
       "      <td>71,450 km</td>\n",
       "      <td>2nd Owner</td>\n",
       "      <td>Diesel</td>\n",
       "      <td>New Delhi</td>\n",
       "    </tr>\n",
       "    <tr>\n",
       "      <th>3</th>\n",
       "      <td>₹4,05,199</td>\n",
       "      <td>2015</td>\n",
       "      <td>Maruti</td>\n",
       "      <td>Swift</td>\n",
       "      <td>VDI ABS Manual</td>\n",
       "      <td>37,925 km</td>\n",
       "      <td>1st Owner</td>\n",
       "      <td>Diesel</td>\n",
       "      <td>New Delhi</td>\n",
       "    </tr>\n",
       "    <tr>\n",
       "      <th>4</th>\n",
       "      <td>₹12,71,199</td>\n",
       "      <td>2020</td>\n",
       "      <td>Honda</td>\n",
       "      <td>City</td>\n",
       "      <td>ZX CVT Automatic</td>\n",
       "      <td>10,322 km</td>\n",
       "      <td>1st Owner</td>\n",
       "      <td>Petrol</td>\n",
       "      <td>New Delhi</td>\n",
       "    </tr>\n",
       "    <tr>\n",
       "      <th>...</th>\n",
       "      <td>...</td>\n",
       "      <td>...</td>\n",
       "      <td>...</td>\n",
       "      <td>...</td>\n",
       "      <td>...</td>\n",
       "      <td>...</td>\n",
       "      <td>...</td>\n",
       "      <td>...</td>\n",
       "      <td>...</td>\n",
       "    </tr>\n",
       "    <tr>\n",
       "      <th>5006</th>\n",
       "      <td>9,75,000</td>\n",
       "      <td>2016</td>\n",
       "      <td>Hyundai</td>\n",
       "      <td>Creta</td>\n",
       "      <td>1.6 SX Opt Diesel</td>\n",
       "      <td>63,314Km</td>\n",
       "      <td>First Owner</td>\n",
       "      <td>Diesel</td>\n",
       "      <td>Surat</td>\n",
       "    </tr>\n",
       "    <tr>\n",
       "      <th>5007</th>\n",
       "      <td>3,75,950</td>\n",
       "      <td>2011</td>\n",
       "      <td>Mahindra</td>\n",
       "      <td>Scorpio</td>\n",
       "      <td>VLX 2WD AIRBAG BS III</td>\n",
       "      <td>79,362Km</td>\n",
       "      <td>Third Owner</td>\n",
       "      <td>Diesel</td>\n",
       "      <td>Surat</td>\n",
       "    </tr>\n",
       "    <tr>\n",
       "      <th>5008</th>\n",
       "      <td>4,35,000</td>\n",
       "      <td>2013</td>\n",
       "      <td>Renault</td>\n",
       "      <td>Duster</td>\n",
       "      <td>110 PS RXL 4X2 MT</td>\n",
       "      <td>65,100Km</td>\n",
       "      <td>First Owner</td>\n",
       "      <td>Diesel</td>\n",
       "      <td>Surat</td>\n",
       "    </tr>\n",
       "    <tr>\n",
       "      <th>5009</th>\n",
       "      <td>1,56,000</td>\n",
       "      <td>2013</td>\n",
       "      <td>Chevrolet</td>\n",
       "      <td>Beat</td>\n",
       "      <td>LS Diesel</td>\n",
       "      <td>77,000Km</td>\n",
       "      <td>First Owner</td>\n",
       "      <td>Diesel</td>\n",
       "      <td>Surat</td>\n",
       "    </tr>\n",
       "    <tr>\n",
       "      <th>5010</th>\n",
       "      <td>2,83,250</td>\n",
       "      <td>2011</td>\n",
       "      <td>Maruti</td>\n",
       "      <td>Swift</td>\n",
       "      <td>DZire VXi</td>\n",
       "      <td>62,000Km</td>\n",
       "      <td>Second Owner</td>\n",
       "      <td>Petrol</td>\n",
       "      <td>Surat</td>\n",
       "    </tr>\n",
       "  </tbody>\n",
       "</table>\n",
       "<p>5011 rows × 9 columns</p>\n",
       "</div>"
      ],
      "text/plain": [
       "           price  year      brand    model                    variant  \\\n",
       "0      ₹4,55,299  2015     Maruti    Swift             VDI ABS Manual   \n",
       "1      ₹5,35,899  2013     Toyota   Innova  2.5 GX 7 STR BS IV Manual   \n",
       "2      ₹3,30,599  2014     Maruti    Swift                 VDI Manual   \n",
       "3      ₹4,05,199  2015     Maruti    Swift             VDI ABS Manual   \n",
       "4     ₹12,71,199  2020      Honda     City           ZX CVT Automatic   \n",
       "...          ...   ...        ...      ...                        ...   \n",
       "5006    9,75,000  2016    Hyundai    Creta          1.6 SX Opt Diesel   \n",
       "5007    3,75,950  2011   Mahindra  Scorpio      VLX 2WD AIRBAG BS III   \n",
       "5008    4,35,000  2013    Renault   Duster          110 PS RXL 4X2 MT   \n",
       "5009    1,56,000  2013  Chevrolet     Beat                  LS Diesel   \n",
       "5010    2,83,250  2011     Maruti    Swift                  DZire VXi   \n",
       "\n",
       "              kms         owner    Fuel   location  \n",
       "0       76,264 km     1st Owner  Diesel  New Delhi  \n",
       "1     1,38,351 km     2nd Owner  Diesel  New Delhi  \n",
       "2       71,450 km     2nd Owner  Diesel  New Delhi  \n",
       "3       37,925 km     1st Owner  Diesel  New Delhi  \n",
       "4       10,322 km     1st Owner  Petrol  New Delhi  \n",
       "...           ...           ...     ...        ...  \n",
       "5006     63,314Km   First Owner  Diesel      Surat  \n",
       "5007     79,362Km   Third Owner  Diesel      Surat  \n",
       "5008     65,100Km   First Owner  Diesel      Surat  \n",
       "5009     77,000Km   First Owner  Diesel      Surat  \n",
       "5010     62,000Km  Second Owner  Petrol      Surat  \n",
       "\n",
       "[5011 rows x 9 columns]"
      ]
     },
     "execution_count": 5,
     "metadata": {},
     "output_type": "execute_result"
    }
   ],
   "source": [
    "df"
   ]
  },
  {
   "cell_type": "code",
   "execution_count": 4,
   "metadata": {},
   "outputs": [],
   "source": [
    "df.loc[df.owner=='1st Owner','owner']=1\n",
    "df.loc[df.owner=='First Owner','owner']=1\n",
    "df.loc[df.owner=='2nd Owner','owner']=2\n",
    "df.loc[df.owner=='Second Owner','owner']=2\n",
    "df.loc[df.owner=='3rd Owner','owner']=3\n",
    "df.loc[df.owner=='Third Owner','owner']=3\n",
    "df.loc[df.owner=='4th Owner','owner']=4\n",
    "df.loc[df.owner=='Fourth Owner Or More','owner']=4"
   ]
  },
  {
   "cell_type": "code",
   "execution_count": 78,
   "metadata": {},
   "outputs": [
    {
     "data": {
      "text/plain": [
       "array([1, 2, 3, 4], dtype=object)"
      ]
     },
     "execution_count": 78,
     "metadata": {},
     "output_type": "execute_result"
    }
   ],
   "source": [
    "df.owner.unique()"
   ]
  },
  {
   "cell_type": "code",
   "execution_count": 5,
   "metadata": {},
   "outputs": [],
   "source": [
    "df.kms=df.kms.str.replace('[km,Km]','')"
   ]
  },
  {
   "cell_type": "code",
   "execution_count": 6,
   "metadata": {},
   "outputs": [],
   "source": [
    "df.year=df.year.str.replace('AT','')"
   ]
  },
  {
   "cell_type": "code",
   "execution_count": 7,
   "metadata": {},
   "outputs": [],
   "source": [
    "df.price=df.price.str.replace('₹','')"
   ]
  },
  {
   "cell_type": "code",
   "execution_count": 8,
   "metadata": {},
   "outputs": [
    {
     "data": {
      "text/plain": [
       "Ahmedabad    838\n",
       "Bengaluru    809\n",
       "Chennai      782\n",
       "Kolkata      684\n",
       "Mumbai       632\n",
       "New Delhi    549\n",
       "Hyderabad    405\n",
       "Jaipur       168\n",
       "Surat        144\n",
       "Name: location, dtype: int64"
      ]
     },
     "execution_count": 8,
     "metadata": {},
     "output_type": "execute_result"
    }
   ],
   "source": [
    "df.location.value_counts()"
   ]
  },
  {
   "cell_type": "code",
   "execution_count": 114,
   "metadata": {},
   "outputs": [
    {
     "data": {
      "text/plain": [
       "array([0, 3, 4, 6, 5, 7, 2, 1])"
      ]
     },
     "execution_count": 114,
     "metadata": {},
     "output_type": "execute_result"
    }
   ],
   "source": [
    "df.Fuel.unique()"
   ]
  },
  {
   "cell_type": "code",
   "execution_count": null,
   "metadata": {},
   "outputs": [],
   "source": []
  },
  {
   "cell_type": "code",
   "execution_count": 112,
   "metadata": {},
   "outputs": [
    {
     "data": {
      "text/html": [
       "<div>\n",
       "<style scoped>\n",
       "    .dataframe tbody tr th:only-of-type {\n",
       "        vertical-align: middle;\n",
       "    }\n",
       "\n",
       "    .dataframe tbody tr th {\n",
       "        vertical-align: top;\n",
       "    }\n",
       "\n",
       "    .dataframe thead th {\n",
       "        text-align: right;\n",
       "    }\n",
       "</style>\n",
       "<table border=\"1\" class=\"dataframe\">\n",
       "  <thead>\n",
       "    <tr style=\"text-align: right;\">\n",
       "      <th></th>\n",
       "      <th>price</th>\n",
       "      <th>year</th>\n",
       "      <th>brand</th>\n",
       "      <th>model</th>\n",
       "      <th>variant</th>\n",
       "      <th>kms</th>\n",
       "      <th>owner</th>\n",
       "      <th>Fuel</th>\n",
       "      <th>location</th>\n",
       "    </tr>\n",
       "  </thead>\n",
       "  <tbody>\n",
       "    <tr>\n",
       "      <th>0</th>\n",
       "      <td>455299.0</td>\n",
       "      <td>2015</td>\n",
       "      <td>15</td>\n",
       "      <td>157</td>\n",
       "      <td>VDI ABS Manual</td>\n",
       "      <td>76264</td>\n",
       "      <td>1</td>\n",
       "      <td>0</td>\n",
       "      <td>7</td>\n",
       "    </tr>\n",
       "    <tr>\n",
       "      <th>1</th>\n",
       "      <td>535899.0</td>\n",
       "      <td>2013</td>\n",
       "      <td>23</td>\n",
       "      <td>90</td>\n",
       "      <td>2.5 GX 7 STR BS IV Manual</td>\n",
       "      <td>138351</td>\n",
       "      <td>2</td>\n",
       "      <td>0</td>\n",
       "      <td>7</td>\n",
       "    </tr>\n",
       "    <tr>\n",
       "      <th>2</th>\n",
       "      <td>330599.0</td>\n",
       "      <td>2014</td>\n",
       "      <td>15</td>\n",
       "      <td>157</td>\n",
       "      <td>VDI Manual</td>\n",
       "      <td>71450</td>\n",
       "      <td>2</td>\n",
       "      <td>0</td>\n",
       "      <td>7</td>\n",
       "    </tr>\n",
       "    <tr>\n",
       "      <th>3</th>\n",
       "      <td>405199.0</td>\n",
       "      <td>2015</td>\n",
       "      <td>15</td>\n",
       "      <td>157</td>\n",
       "      <td>VDI ABS Manual</td>\n",
       "      <td>37925</td>\n",
       "      <td>1</td>\n",
       "      <td>0</td>\n",
       "      <td>7</td>\n",
       "    </tr>\n",
       "    <tr>\n",
       "      <th>4</th>\n",
       "      <td>1271199.0</td>\n",
       "      <td>2020</td>\n",
       "      <td>7</td>\n",
       "      <td>36</td>\n",
       "      <td>ZX CVT Automatic</td>\n",
       "      <td>10322</td>\n",
       "      <td>1</td>\n",
       "      <td>3</td>\n",
       "      <td>7</td>\n",
       "    </tr>\n",
       "    <tr>\n",
       "      <th>...</th>\n",
       "      <td>...</td>\n",
       "      <td>...</td>\n",
       "      <td>...</td>\n",
       "      <td>...</td>\n",
       "      <td>...</td>\n",
       "      <td>...</td>\n",
       "      <td>...</td>\n",
       "      <td>...</td>\n",
       "      <td>...</td>\n",
       "    </tr>\n",
       "    <tr>\n",
       "      <th>5006</th>\n",
       "      <td>975000.0</td>\n",
       "      <td>2016</td>\n",
       "      <td>8</td>\n",
       "      <td>42</td>\n",
       "      <td>1.6 SX Opt Diesel</td>\n",
       "      <td>63314</td>\n",
       "      <td>1</td>\n",
       "      <td>0</td>\n",
       "      <td>8</td>\n",
       "    </tr>\n",
       "    <tr>\n",
       "      <th>5007</th>\n",
       "      <td>375950.0</td>\n",
       "      <td>2011</td>\n",
       "      <td>14</td>\n",
       "      <td>148</td>\n",
       "      <td>VLX 2WD AIRBAG BS III</td>\n",
       "      <td>79362</td>\n",
       "      <td>3</td>\n",
       "      <td>0</td>\n",
       "      <td>8</td>\n",
       "    </tr>\n",
       "    <tr>\n",
       "      <th>5008</th>\n",
       "      <td>435000.0</td>\n",
       "      <td>2013</td>\n",
       "      <td>19</td>\n",
       "      <td>46</td>\n",
       "      <td>110 PS RXL 4X2 MT</td>\n",
       "      <td>65100</td>\n",
       "      <td>1</td>\n",
       "      <td>0</td>\n",
       "      <td>8</td>\n",
       "    </tr>\n",
       "    <tr>\n",
       "      <th>5009</th>\n",
       "      <td>156000.0</td>\n",
       "      <td>2013</td>\n",
       "      <td>2</td>\n",
       "      <td>21</td>\n",
       "      <td>LS Diesel</td>\n",
       "      <td>77000</td>\n",
       "      <td>1</td>\n",
       "      <td>0</td>\n",
       "      <td>8</td>\n",
       "    </tr>\n",
       "    <tr>\n",
       "      <th>5010</th>\n",
       "      <td>283250.0</td>\n",
       "      <td>2011</td>\n",
       "      <td>15</td>\n",
       "      <td>157</td>\n",
       "      <td>DZire VXi</td>\n",
       "      <td>62000</td>\n",
       "      <td>2</td>\n",
       "      <td>3</td>\n",
       "      <td>8</td>\n",
       "    </tr>\n",
       "  </tbody>\n",
       "</table>\n",
       "<p>5011 rows × 9 columns</p>\n",
       "</div>"
      ],
      "text/plain": [
       "          price  year  brand  model                    variant     kms  owner  \\\n",
       "0      455299.0  2015     15    157             VDI ABS Manual   76264      1   \n",
       "1      535899.0  2013     23     90  2.5 GX 7 STR BS IV Manual  138351      2   \n",
       "2      330599.0  2014     15    157                 VDI Manual   71450      2   \n",
       "3      405199.0  2015     15    157             VDI ABS Manual   37925      1   \n",
       "4     1271199.0  2020      7     36           ZX CVT Automatic   10322      1   \n",
       "...         ...   ...    ...    ...                        ...     ...    ...   \n",
       "5006   975000.0  2016      8     42          1.6 SX Opt Diesel   63314      1   \n",
       "5007   375950.0  2011     14    148      VLX 2WD AIRBAG BS III   79362      3   \n",
       "5008   435000.0  2013     19     46          110 PS RXL 4X2 MT   65100      1   \n",
       "5009   156000.0  2013      2     21                  LS Diesel   77000      1   \n",
       "5010   283250.0  2011     15    157                  DZire VXi   62000      2   \n",
       "\n",
       "      Fuel  location  \n",
       "0        0         7  \n",
       "1        0         7  \n",
       "2        0         7  \n",
       "3        0         7  \n",
       "4        3         7  \n",
       "...    ...       ...  \n",
       "5006     0         8  \n",
       "5007     0         8  \n",
       "5008     0         8  \n",
       "5009     0         8  \n",
       "5010     3         8  \n",
       "\n",
       "[5011 rows x 9 columns]"
      ]
     },
     "execution_count": 112,
     "metadata": {},
     "output_type": "execute_result"
    }
   ],
   "source": [
    "df"
   ]
  },
  {
   "cell_type": "code",
   "execution_count": 22,
   "metadata": {},
   "outputs": [
    {
     "name": "stdout",
     "output_type": "stream",
     "text": [
      "<class 'pandas.core.frame.DataFrame'>\n",
      "RangeIndex: 5011 entries, 0 to 5010\n",
      "Data columns (total 9 columns):\n",
      " #   Column    Non-Null Count  Dtype  \n",
      "---  ------    --------------  -----  \n",
      " 0   price     5011 non-null   float64\n",
      " 1   year      5011 non-null   int64  \n",
      " 2   brand     5011 non-null   int32  \n",
      " 3   model     5011 non-null   int32  \n",
      " 4   variant   5011 non-null   object \n",
      " 5   kms       5011 non-null   int64  \n",
      " 6   owner     5011 non-null   int64  \n",
      " 7   Fuel      5011 non-null   int32  \n",
      " 8   location  5011 non-null   int32  \n",
      "dtypes: float64(1), int32(4), int64(3), object(1)\n",
      "memory usage: 274.2+ KB\n"
     ]
    }
   ],
   "source": [
    "df.info()"
   ]
  },
  {
   "cell_type": "code",
   "execution_count": 14,
   "metadata": {},
   "outputs": [],
   "source": [
    "from sklearn.preprocessing import LabelEncoder\n",
    "label=LabelEncoder()\n",
    "cols=['brand','model','Fuel','location']\n",
    "df[cols]=df[cols].apply(lambda x: label.fit_transform(x))"
   ]
  },
  {
   "cell_type": "code",
   "execution_count": 36,
   "metadata": {},
   "outputs": [
    {
     "data": {
      "text/plain": [
       "3,50,000     32\n",
       "6,50,000     27\n",
       "4,00,000     25\n",
       "4,25,000     24\n",
       "3,20,125     24\n",
       "             ..\n",
       "3,92,030      1\n",
       "14,20,370     1\n",
       "7,09,699      1\n",
       "5,67,634      1\n",
       "5,47,899      1\n",
       "Name: price, Length: 2652, dtype: int64"
      ]
     },
     "execution_count": 36,
     "metadata": {},
     "output_type": "execute_result"
    }
   ],
   "source": [
    "df['price'].value_counts()"
   ]
  },
  {
   "cell_type": "code",
   "execution_count": 17,
   "metadata": {},
   "outputs": [],
   "source": [
    "df['price']=df.price.str.replace(',','')"
   ]
  },
  {
   "cell_type": "code",
   "execution_count": 20,
   "metadata": {},
   "outputs": [],
   "source": [
    "df['price'] = df['price'].astype('float')"
   ]
  },
  {
   "cell_type": "code",
   "execution_count": 10,
   "metadata": {},
   "outputs": [],
   "source": [
    "df[\"year\"] = df[\"year\"].astype(\"int64\")"
   ]
  },
  {
   "cell_type": "code",
   "execution_count": 11,
   "metadata": {},
   "outputs": [],
   "source": [
    "df[\"owner\"] = df[\"owner\"].astype('int64')"
   ]
  },
  {
   "cell_type": "code",
   "execution_count": 12,
   "metadata": {},
   "outputs": [],
   "source": [
    "df[\"kms\"] = df[\"kms\"].astype('int64')"
   ]
  },
  {
   "cell_type": "code",
   "execution_count": null,
   "metadata": {},
   "outputs": [],
   "source": []
  },
  {
   "cell_type": "code",
   "execution_count": 21,
   "metadata": {},
   "outputs": [
    {
     "data": {
      "text/html": [
       "<div>\n",
       "<style scoped>\n",
       "    .dataframe tbody tr th:only-of-type {\n",
       "        vertical-align: middle;\n",
       "    }\n",
       "\n",
       "    .dataframe tbody tr th {\n",
       "        vertical-align: top;\n",
       "    }\n",
       "\n",
       "    .dataframe thead th {\n",
       "        text-align: right;\n",
       "    }\n",
       "</style>\n",
       "<table border=\"1\" class=\"dataframe\">\n",
       "  <thead>\n",
       "    <tr style=\"text-align: right;\">\n",
       "      <th></th>\n",
       "      <th>price</th>\n",
       "      <th>year</th>\n",
       "      <th>brand</th>\n",
       "      <th>model</th>\n",
       "      <th>variant</th>\n",
       "      <th>kms</th>\n",
       "      <th>owner</th>\n",
       "      <th>Fuel</th>\n",
       "      <th>location</th>\n",
       "    </tr>\n",
       "  </thead>\n",
       "  <tbody>\n",
       "    <tr>\n",
       "      <th>0</th>\n",
       "      <td>455299.0</td>\n",
       "      <td>2015</td>\n",
       "      <td>15</td>\n",
       "      <td>157</td>\n",
       "      <td>VDI ABS Manual</td>\n",
       "      <td>76264</td>\n",
       "      <td>1</td>\n",
       "      <td>0</td>\n",
       "      <td>7</td>\n",
       "    </tr>\n",
       "    <tr>\n",
       "      <th>1</th>\n",
       "      <td>535899.0</td>\n",
       "      <td>2013</td>\n",
       "      <td>23</td>\n",
       "      <td>90</td>\n",
       "      <td>2.5 GX 7 STR BS IV Manual</td>\n",
       "      <td>138351</td>\n",
       "      <td>2</td>\n",
       "      <td>0</td>\n",
       "      <td>7</td>\n",
       "    </tr>\n",
       "    <tr>\n",
       "      <th>2</th>\n",
       "      <td>330599.0</td>\n",
       "      <td>2014</td>\n",
       "      <td>15</td>\n",
       "      <td>157</td>\n",
       "      <td>VDI Manual</td>\n",
       "      <td>71450</td>\n",
       "      <td>2</td>\n",
       "      <td>0</td>\n",
       "      <td>7</td>\n",
       "    </tr>\n",
       "    <tr>\n",
       "      <th>3</th>\n",
       "      <td>405199.0</td>\n",
       "      <td>2015</td>\n",
       "      <td>15</td>\n",
       "      <td>157</td>\n",
       "      <td>VDI ABS Manual</td>\n",
       "      <td>37925</td>\n",
       "      <td>1</td>\n",
       "      <td>0</td>\n",
       "      <td>7</td>\n",
       "    </tr>\n",
       "    <tr>\n",
       "      <th>4</th>\n",
       "      <td>1271199.0</td>\n",
       "      <td>2020</td>\n",
       "      <td>7</td>\n",
       "      <td>36</td>\n",
       "      <td>ZX CVT Automatic</td>\n",
       "      <td>10322</td>\n",
       "      <td>1</td>\n",
       "      <td>3</td>\n",
       "      <td>7</td>\n",
       "    </tr>\n",
       "    <tr>\n",
       "      <th>...</th>\n",
       "      <td>...</td>\n",
       "      <td>...</td>\n",
       "      <td>...</td>\n",
       "      <td>...</td>\n",
       "      <td>...</td>\n",
       "      <td>...</td>\n",
       "      <td>...</td>\n",
       "      <td>...</td>\n",
       "      <td>...</td>\n",
       "    </tr>\n",
       "    <tr>\n",
       "      <th>5006</th>\n",
       "      <td>975000.0</td>\n",
       "      <td>2016</td>\n",
       "      <td>8</td>\n",
       "      <td>42</td>\n",
       "      <td>1.6 SX Opt Diesel</td>\n",
       "      <td>63314</td>\n",
       "      <td>1</td>\n",
       "      <td>0</td>\n",
       "      <td>8</td>\n",
       "    </tr>\n",
       "    <tr>\n",
       "      <th>5007</th>\n",
       "      <td>375950.0</td>\n",
       "      <td>2011</td>\n",
       "      <td>14</td>\n",
       "      <td>148</td>\n",
       "      <td>VLX 2WD AIRBAG BS III</td>\n",
       "      <td>79362</td>\n",
       "      <td>3</td>\n",
       "      <td>0</td>\n",
       "      <td>8</td>\n",
       "    </tr>\n",
       "    <tr>\n",
       "      <th>5008</th>\n",
       "      <td>435000.0</td>\n",
       "      <td>2013</td>\n",
       "      <td>19</td>\n",
       "      <td>46</td>\n",
       "      <td>110 PS RXL 4X2 MT</td>\n",
       "      <td>65100</td>\n",
       "      <td>1</td>\n",
       "      <td>0</td>\n",
       "      <td>8</td>\n",
       "    </tr>\n",
       "    <tr>\n",
       "      <th>5009</th>\n",
       "      <td>156000.0</td>\n",
       "      <td>2013</td>\n",
       "      <td>2</td>\n",
       "      <td>21</td>\n",
       "      <td>LS Diesel</td>\n",
       "      <td>77000</td>\n",
       "      <td>1</td>\n",
       "      <td>0</td>\n",
       "      <td>8</td>\n",
       "    </tr>\n",
       "    <tr>\n",
       "      <th>5010</th>\n",
       "      <td>283250.0</td>\n",
       "      <td>2011</td>\n",
       "      <td>15</td>\n",
       "      <td>157</td>\n",
       "      <td>DZire VXi</td>\n",
       "      <td>62000</td>\n",
       "      <td>2</td>\n",
       "      <td>3</td>\n",
       "      <td>8</td>\n",
       "    </tr>\n",
       "  </tbody>\n",
       "</table>\n",
       "<p>5011 rows × 9 columns</p>\n",
       "</div>"
      ],
      "text/plain": [
       "          price  year  brand  model                    variant     kms  owner  \\\n",
       "0      455299.0  2015     15    157             VDI ABS Manual   76264      1   \n",
       "1      535899.0  2013     23     90  2.5 GX 7 STR BS IV Manual  138351      2   \n",
       "2      330599.0  2014     15    157                 VDI Manual   71450      2   \n",
       "3      405199.0  2015     15    157             VDI ABS Manual   37925      1   \n",
       "4     1271199.0  2020      7     36           ZX CVT Automatic   10322      1   \n",
       "...         ...   ...    ...    ...                        ...     ...    ...   \n",
       "5006   975000.0  2016      8     42          1.6 SX Opt Diesel   63314      1   \n",
       "5007   375950.0  2011     14    148      VLX 2WD AIRBAG BS III   79362      3   \n",
       "5008   435000.0  2013     19     46          110 PS RXL 4X2 MT   65100      1   \n",
       "5009   156000.0  2013      2     21                  LS Diesel   77000      1   \n",
       "5010   283250.0  2011     15    157                  DZire VXi   62000      2   \n",
       "\n",
       "      Fuel  location  \n",
       "0        0         7  \n",
       "1        0         7  \n",
       "2        0         7  \n",
       "3        0         7  \n",
       "4        3         7  \n",
       "...    ...       ...  \n",
       "5006     0         8  \n",
       "5007     0         8  \n",
       "5008     0         8  \n",
       "5009     0         8  \n",
       "5010     3         8  \n",
       "\n",
       "[5011 rows x 9 columns]"
      ]
     },
     "execution_count": 21,
     "metadata": {},
     "output_type": "execute_result"
    }
   ],
   "source": [
    "df"
   ]
  },
  {
   "cell_type": "code",
   "execution_count": 115,
   "metadata": {},
   "outputs": [
    {
     "data": {
      "text/html": [
       "<div>\n",
       "<style scoped>\n",
       "    .dataframe tbody tr th:only-of-type {\n",
       "        vertical-align: middle;\n",
       "    }\n",
       "\n",
       "    .dataframe tbody tr th {\n",
       "        vertical-align: top;\n",
       "    }\n",
       "\n",
       "    .dataframe thead th {\n",
       "        text-align: right;\n",
       "    }\n",
       "</style>\n",
       "<table border=\"1\" class=\"dataframe\">\n",
       "  <thead>\n",
       "    <tr style=\"text-align: right;\">\n",
       "      <th></th>\n",
       "      <th>price</th>\n",
       "      <th>year</th>\n",
       "      <th>brand</th>\n",
       "      <th>model</th>\n",
       "      <th>kms</th>\n",
       "      <th>owner</th>\n",
       "      <th>Fuel</th>\n",
       "      <th>location</th>\n",
       "    </tr>\n",
       "  </thead>\n",
       "  <tbody>\n",
       "    <tr>\n",
       "      <th>count</th>\n",
       "      <td>5.011000e+03</td>\n",
       "      <td>5011.000000</td>\n",
       "      <td>5011.000000</td>\n",
       "      <td>5011.000000</td>\n",
       "      <td>5011.000000</td>\n",
       "      <td>5011.000000</td>\n",
       "      <td>5011.000000</td>\n",
       "      <td>5011.000000</td>\n",
       "    </tr>\n",
       "    <tr>\n",
       "      <th>mean</th>\n",
       "      <td>5.764094e+05</td>\n",
       "      <td>2014.618639</td>\n",
       "      <td>12.964678</td>\n",
       "      <td>99.911794</td>\n",
       "      <td>54080.125723</td>\n",
       "      <td>1.268409</td>\n",
       "      <td>1.732788</td>\n",
       "      <td>3.286170</td>\n",
       "    </tr>\n",
       "    <tr>\n",
       "      <th>std</th>\n",
       "      <td>4.278102e+05</td>\n",
       "      <td>3.742143</td>\n",
       "      <td>5.816021</td>\n",
       "      <td>62.499020</td>\n",
       "      <td>42577.189396</td>\n",
       "      <td>0.531256</td>\n",
       "      <td>1.510126</td>\n",
       "      <td>2.532252</td>\n",
       "    </tr>\n",
       "    <tr>\n",
       "      <th>min</th>\n",
       "      <td>3.350000e+04</td>\n",
       "      <td>1998.000000</td>\n",
       "      <td>0.000000</td>\n",
       "      <td>0.000000</td>\n",
       "      <td>100.000000</td>\n",
       "      <td>1.000000</td>\n",
       "      <td>0.000000</td>\n",
       "      <td>0.000000</td>\n",
       "    </tr>\n",
       "    <tr>\n",
       "      <th>25%</th>\n",
       "      <td>3.250000e+05</td>\n",
       "      <td>2012.000000</td>\n",
       "      <td>8.000000</td>\n",
       "      <td>43.000000</td>\n",
       "      <td>26407.500000</td>\n",
       "      <td>1.000000</td>\n",
       "      <td>0.000000</td>\n",
       "      <td>1.000000</td>\n",
       "    </tr>\n",
       "    <tr>\n",
       "      <th>50%</th>\n",
       "      <td>4.826500e+05</td>\n",
       "      <td>2015.000000</td>\n",
       "      <td>15.000000</td>\n",
       "      <td>90.000000</td>\n",
       "      <td>51864.000000</td>\n",
       "      <td>1.000000</td>\n",
       "      <td>3.000000</td>\n",
       "      <td>3.000000</td>\n",
       "    </tr>\n",
       "    <tr>\n",
       "      <th>75%</th>\n",
       "      <td>6.849245e+05</td>\n",
       "      <td>2018.000000</td>\n",
       "      <td>15.000000</td>\n",
       "      <td>157.000000</td>\n",
       "      <td>74000.000000</td>\n",
       "      <td>1.000000</td>\n",
       "      <td>3.000000</td>\n",
       "      <td>6.000000</td>\n",
       "    </tr>\n",
       "    <tr>\n",
       "      <th>max</th>\n",
       "      <td>5.000000e+06</td>\n",
       "      <td>2021.000000</td>\n",
       "      <td>24.000000</td>\n",
       "      <td>201.000000</td>\n",
       "      <td>850002.000000</td>\n",
       "      <td>4.000000</td>\n",
       "      <td>7.000000</td>\n",
       "      <td>8.000000</td>\n",
       "    </tr>\n",
       "  </tbody>\n",
       "</table>\n",
       "</div>"
      ],
      "text/plain": [
       "              price         year        brand        model            kms  \\\n",
       "count  5.011000e+03  5011.000000  5011.000000  5011.000000    5011.000000   \n",
       "mean   5.764094e+05  2014.618639    12.964678    99.911794   54080.125723   \n",
       "std    4.278102e+05     3.742143     5.816021    62.499020   42577.189396   \n",
       "min    3.350000e+04  1998.000000     0.000000     0.000000     100.000000   \n",
       "25%    3.250000e+05  2012.000000     8.000000    43.000000   26407.500000   \n",
       "50%    4.826500e+05  2015.000000    15.000000    90.000000   51864.000000   \n",
       "75%    6.849245e+05  2018.000000    15.000000   157.000000   74000.000000   \n",
       "max    5.000000e+06  2021.000000    24.000000   201.000000  850002.000000   \n",
       "\n",
       "             owner         Fuel     location  \n",
       "count  5011.000000  5011.000000  5011.000000  \n",
       "mean      1.268409     1.732788     3.286170  \n",
       "std       0.531256     1.510126     2.532252  \n",
       "min       1.000000     0.000000     0.000000  \n",
       "25%       1.000000     0.000000     1.000000  \n",
       "50%       1.000000     3.000000     3.000000  \n",
       "75%       1.000000     3.000000     6.000000  \n",
       "max       4.000000     7.000000     8.000000  "
      ]
     },
     "execution_count": 115,
     "metadata": {},
     "output_type": "execute_result"
    }
   ],
   "source": [
    "df.describe()"
   ]
  },
  {
   "cell_type": "code",
   "execution_count": 118,
   "metadata": {},
   "outputs": [
    {
     "data": {
      "text/plain": [
       "<AxesSubplot:xlabel='owner', ylabel='price'>"
      ]
     },
     "execution_count": 118,
     "metadata": {},
     "output_type": "execute_result"
    },
    {
     "data": {
      "image/png": "[encoded data removed]",
      "text/plain": [
       "<Figure size 432x288 with 1 Axes>"
      ]
     },
     "metadata": {
      "needs_background": "light"
     },
     "output_type": "display_data"
    }
   ],
   "source": [
    "sns.barplot(y='price',x='owner',data=df)"
   ]
  },
  {
   "cell_type": "code",
   "execution_count": 119,
   "metadata": {},
   "outputs": [
    {
     "data": {
      "text/plain": [
       "<AxesSubplot:xlabel='Fuel', ylabel='price'>"
      ]
     },
     "execution_count": 119,
     "metadata": {},
     "output_type": "execute_result"
    },
    {
     "data": {
      "image/png": "[encoded data removed]",
      "text/plain": [
       "<Figure size 432x288 with 1 Axes>"
      ]
     },
     "metadata": {
      "needs_background": "light"
     },
     "output_type": "display_data"
    }
   ],
   "source": [
    "sns.barplot(y='price',x='Fuel',data=df)"
   ]
  },
  {
   "cell_type": "code",
   "execution_count": 125,
   "metadata": {},
   "outputs": [
    {
     "data": {
      "text/plain": [
       "<AxesSubplot:xlabel='year', ylabel='price'>"
      ]
     },
     "execution_count": 125,
     "metadata": {},
     "output_type": "execute_result"
    },
    {
     "data": {
      "image/png": "[encoded data removed]",
      "text/plain": [
       "<Figure size 1152x288 with 1 Axes>"
      ]
     },
     "metadata": {
      "needs_background": "light"
     },
     "output_type": "display_data"
    }
   ],
   "source": [
    "plt.figure(figsize=(16,4))\n",
    "sns.barplot(y='price',x='year',data=df)"
   ]
  },
  {
   "cell_type": "code",
   "execution_count": 120,
   "metadata": {},
   "outputs": [
    {
     "data": {
      "text/plain": [
       "<AxesSubplot:xlabel='brand', ylabel='price'>"
      ]
     },
     "execution_count": 120,
     "metadata": {},
     "output_type": "execute_result"
    },
    {
     "data": {
      "image/png": "[encoded data removed]",
      "text/plain": [
       "<Figure size 432x288 with 1 Axes>"
      ]
     },
     "metadata": {
      "needs_background": "light"
     },
     "output_type": "display_data"
    }
   ],
   "source": [
    "sns.barplot(y='price',x='brand',data=df)"
   ]
  },
  {
   "cell_type": "code",
   "execution_count": 16,
   "metadata": {},
   "outputs": [
    {
     "data": {
      "text/plain": [
       "array(['Diesel', 'Petrol', 'Petrol + CNG', 'Petrol + LPG', 'Petrol + Cng',\n",
       "       'Petrol + Lpg', 'Hybrid', 'Electric'], dtype=object)"
      ]
     },
     "execution_count": 16,
     "metadata": {},
     "output_type": "execute_result"
    }
   ],
   "source": [
    "df['Fuel'].unique()"
   ]
  },
  {
   "cell_type": "code",
   "execution_count": 171,
   "metadata": {},
   "outputs": [
    {
     "data": {
      "text/plain": [
       "array([[<AxesSubplot:title={'center':'price'}>,\n",
       "        <AxesSubplot:title={'center':'year'}>,\n",
       "        <AxesSubplot:title={'center':'brand'}>,\n",
       "        <AxesSubplot:title={'center':'model'}>],\n",
       "       [<AxesSubplot:title={'center':'kms'}>,\n",
       "        <AxesSubplot:title={'center':'owner'}>,\n",
       "        <AxesSubplot:title={'center':'Fuel'}>,\n",
       "        <AxesSubplot:title={'center':'location'}>],\n",
       "       [<AxesSubplot:>, <AxesSubplot:>, <AxesSubplot:>, <AxesSubplot:>],\n",
       "       [<AxesSubplot:>, <AxesSubplot:>, <AxesSubplot:>, <AxesSubplot:>]],\n",
       "      dtype=object)"
      ]
     },
     "execution_count": 171,
     "metadata": {},
     "output_type": "execute_result"
    },
    {
     "data": {
      "image/png": "[encoded data removed]",
      "text/plain": [
       "<Figure size 1440x1440 with 16 Axes>"
      ]
     },
     "metadata": {
      "needs_background": "light"
     },
     "output_type": "display_data"
    }
   ],
   "source": [
    "dfnew.hist(figsize=(20,20),layout=(4,4))"
   ]
  },
  {
   "cell_type": "code",
   "execution_count": 172,
   "metadata": {},
   "outputs": [
    {
     "data": {
      "text/plain": [
       "price           AxesSubplot(0.125,0.71587;0.133621x0.16413)\n",
       "year         AxesSubplot(0.285345,0.71587;0.133621x0.16413)\n",
       "brand         AxesSubplot(0.44569,0.71587;0.133621x0.16413)\n",
       "model        AxesSubplot(0.606034,0.71587;0.133621x0.16413)\n",
       "kms          AxesSubplot(0.766379,0.71587;0.133621x0.16413)\n",
       "owner          AxesSubplot(0.125,0.518913;0.133621x0.16413)\n",
       "Fuel        AxesSubplot(0.285345,0.518913;0.133621x0.16413)\n",
       "location     AxesSubplot(0.44569,0.518913;0.133621x0.16413)\n",
       "dtype: object"
      ]
     },
     "execution_count": 172,
     "metadata": {},
     "output_type": "execute_result"
    },
    {
     "data": {
      "image/png": "[encoded data removed]",
      "text/plain": [
       "<Figure size 1080x720 with 20 Axes>"
      ]
     },
     "metadata": {
      "needs_background": "light"
     },
     "output_type": "display_data"
    }
   ],
   "source": [
    "dfnew.plot(kind='box',subplots=True,layout=(4,5),figsize=(15,10))"
   ]
  },
  {
   "cell_type": "code",
   "execution_count": 173,
   "metadata": {},
   "outputs": [
    {
     "data": {
      "text/plain": [
       "price       1.447014\n",
       "year       -0.509664\n",
       "brand       0.320814\n",
       "model       0.141767\n",
       "kms         0.577929\n",
       "owner       1.474016\n",
       "Fuel       -0.282955\n",
       "location    0.215572\n",
       "dtype: float64"
      ]
     },
     "execution_count": 173,
     "metadata": {},
     "output_type": "execute_result"
    }
   ],
   "source": [
    "dfnew.skew()"
   ]
  },
  {
   "cell_type": "code",
   "execution_count": 174,
   "metadata": {},
   "outputs": [
    {
     "data": {
      "text/plain": [
       "<AxesSubplot:>"
      ]
     },
     "execution_count": 174,
     "metadata": {},
     "output_type": "execute_result"
    },
    {
     "data": {
      "image/png": "[encoded data removed]",
      "text/plain": [
       "<Figure size 1080x432 with 2 Axes>"
      ]
     },
     "metadata": {
      "needs_background": "light"
     },
     "output_type": "display_data"
    }
   ],
   "source": [
    "plt.figure(figsize=(15,6))                        #figure size\n",
    "sns.heatmap(dfnew.corr(),annot=True)"
   ]
  },
  {
   "cell_type": "code",
   "execution_count": 137,
   "metadata": {},
   "outputs": [
    {
     "data": {
      "text/html": [
       "<div>\n",
       "<style scoped>\n",
       "    .dataframe tbody tr th:only-of-type {\n",
       "        vertical-align: middle;\n",
       "    }\n",
       "\n",
       "    .dataframe tbody tr th {\n",
       "        vertical-align: top;\n",
       "    }\n",
       "\n",
       "    .dataframe thead th {\n",
       "        text-align: right;\n",
       "    }\n",
       "</style>\n",
       "<table border=\"1\" class=\"dataframe\">\n",
       "  <thead>\n",
       "    <tr style=\"text-align: right;\">\n",
       "      <th></th>\n",
       "      <th>price</th>\n",
       "      <th>year</th>\n",
       "      <th>brand</th>\n",
       "      <th>model</th>\n",
       "      <th>variant</th>\n",
       "      <th>kms</th>\n",
       "      <th>owner</th>\n",
       "      <th>Fuel</th>\n",
       "      <th>location</th>\n",
       "    </tr>\n",
       "  </thead>\n",
       "  <tbody>\n",
       "    <tr>\n",
       "      <th>0</th>\n",
       "      <td>455299.0</td>\n",
       "      <td>2015</td>\n",
       "      <td>15</td>\n",
       "      <td>157</td>\n",
       "      <td>VDI ABS Manual</td>\n",
       "      <td>76264</td>\n",
       "      <td>1</td>\n",
       "      <td>0</td>\n",
       "      <td>7</td>\n",
       "    </tr>\n",
       "    <tr>\n",
       "      <th>1</th>\n",
       "      <td>535899.0</td>\n",
       "      <td>2013</td>\n",
       "      <td>23</td>\n",
       "      <td>90</td>\n",
       "      <td>2.5 GX 7 STR BS IV Manual</td>\n",
       "      <td>138351</td>\n",
       "      <td>2</td>\n",
       "      <td>0</td>\n",
       "      <td>7</td>\n",
       "    </tr>\n",
       "    <tr>\n",
       "      <th>2</th>\n",
       "      <td>330599.0</td>\n",
       "      <td>2014</td>\n",
       "      <td>15</td>\n",
       "      <td>157</td>\n",
       "      <td>VDI Manual</td>\n",
       "      <td>71450</td>\n",
       "      <td>2</td>\n",
       "      <td>0</td>\n",
       "      <td>7</td>\n",
       "    </tr>\n",
       "    <tr>\n",
       "      <th>3</th>\n",
       "      <td>405199.0</td>\n",
       "      <td>2015</td>\n",
       "      <td>15</td>\n",
       "      <td>157</td>\n",
       "      <td>VDI ABS Manual</td>\n",
       "      <td>37925</td>\n",
       "      <td>1</td>\n",
       "      <td>0</td>\n",
       "      <td>7</td>\n",
       "    </tr>\n",
       "    <tr>\n",
       "      <th>4</th>\n",
       "      <td>1271199.0</td>\n",
       "      <td>2020</td>\n",
       "      <td>7</td>\n",
       "      <td>36</td>\n",
       "      <td>ZX CVT Automatic</td>\n",
       "      <td>10322</td>\n",
       "      <td>1</td>\n",
       "      <td>3</td>\n",
       "      <td>7</td>\n",
       "    </tr>\n",
       "    <tr>\n",
       "      <th>...</th>\n",
       "      <td>...</td>\n",
       "      <td>...</td>\n",
       "      <td>...</td>\n",
       "      <td>...</td>\n",
       "      <td>...</td>\n",
       "      <td>...</td>\n",
       "      <td>...</td>\n",
       "      <td>...</td>\n",
       "      <td>...</td>\n",
       "    </tr>\n",
       "    <tr>\n",
       "      <th>5006</th>\n",
       "      <td>975000.0</td>\n",
       "      <td>2016</td>\n",
       "      <td>8</td>\n",
       "      <td>42</td>\n",
       "      <td>1.6 SX Opt Diesel</td>\n",
       "      <td>63314</td>\n",
       "      <td>1</td>\n",
       "      <td>0</td>\n",
       "      <td>8</td>\n",
       "    </tr>\n",
       "    <tr>\n",
       "      <th>5007</th>\n",
       "      <td>375950.0</td>\n",
       "      <td>2011</td>\n",
       "      <td>14</td>\n",
       "      <td>148</td>\n",
       "      <td>VLX 2WD AIRBAG BS III</td>\n",
       "      <td>79362</td>\n",
       "      <td>3</td>\n",
       "      <td>0</td>\n",
       "      <td>8</td>\n",
       "    </tr>\n",
       "    <tr>\n",
       "      <th>5008</th>\n",
       "      <td>435000.0</td>\n",
       "      <td>2013</td>\n",
       "      <td>19</td>\n",
       "      <td>46</td>\n",
       "      <td>110 PS RXL 4X2 MT</td>\n",
       "      <td>65100</td>\n",
       "      <td>1</td>\n",
       "      <td>0</td>\n",
       "      <td>8</td>\n",
       "    </tr>\n",
       "    <tr>\n",
       "      <th>5009</th>\n",
       "      <td>156000.0</td>\n",
       "      <td>2013</td>\n",
       "      <td>2</td>\n",
       "      <td>21</td>\n",
       "      <td>LS Diesel</td>\n",
       "      <td>77000</td>\n",
       "      <td>1</td>\n",
       "      <td>0</td>\n",
       "      <td>8</td>\n",
       "    </tr>\n",
       "    <tr>\n",
       "      <th>5010</th>\n",
       "      <td>283250.0</td>\n",
       "      <td>2011</td>\n",
       "      <td>15</td>\n",
       "      <td>157</td>\n",
       "      <td>DZire VXi</td>\n",
       "      <td>62000</td>\n",
       "      <td>2</td>\n",
       "      <td>3</td>\n",
       "      <td>8</td>\n",
       "    </tr>\n",
       "  </tbody>\n",
       "</table>\n",
       "<p>5011 rows × 9 columns</p>\n",
       "</div>"
      ],
      "text/plain": [
       "          price  year  brand  model                    variant     kms  owner  \\\n",
       "0      455299.0  2015     15    157             VDI ABS Manual   76264      1   \n",
       "1      535899.0  2013     23     90  2.5 GX 7 STR BS IV Manual  138351      2   \n",
       "2      330599.0  2014     15    157                 VDI Manual   71450      2   \n",
       "3      405199.0  2015     15    157             VDI ABS Manual   37925      1   \n",
       "4     1271199.0  2020      7     36           ZX CVT Automatic   10322      1   \n",
       "...         ...   ...    ...    ...                        ...     ...    ...   \n",
       "5006   975000.0  2016      8     42          1.6 SX Opt Diesel   63314      1   \n",
       "5007   375950.0  2011     14    148      VLX 2WD AIRBAG BS III   79362      3   \n",
       "5008   435000.0  2013     19     46          110 PS RXL 4X2 MT   65100      1   \n",
       "5009   156000.0  2013      2     21                  LS Diesel   77000      1   \n",
       "5010   283250.0  2011     15    157                  DZire VXi   62000      2   \n",
       "\n",
       "      Fuel  location  \n",
       "0        0         7  \n",
       "1        0         7  \n",
       "2        0         7  \n",
       "3        0         7  \n",
       "4        3         7  \n",
       "...    ...       ...  \n",
       "5006     0         8  \n",
       "5007     0         8  \n",
       "5008     0         8  \n",
       "5009     0         8  \n",
       "5010     3         8  \n",
       "\n",
       "[5011 rows x 9 columns]"
      ]
     },
     "execution_count": 137,
     "metadata": {},
     "output_type": "execute_result"
    }
   ],
   "source": [
    "df"
   ]
  },
  {
   "cell_type": "code",
   "execution_count": 32,
   "metadata": {},
   "outputs": [],
   "source": [
    "df1=df.drop(['variant'],axis=1)"
   ]
  },
  {
   "cell_type": "code",
   "execution_count": 33,
   "metadata": {},
   "outputs": [
    {
     "data": {
      "text/html": [
       "<div>\n",
       "<style scoped>\n",
       "    .dataframe tbody tr th:only-of-type {\n",
       "        vertical-align: middle;\n",
       "    }\n",
       "\n",
       "    .dataframe tbody tr th {\n",
       "        vertical-align: top;\n",
       "    }\n",
       "\n",
       "    .dataframe thead th {\n",
       "        text-align: right;\n",
       "    }\n",
       "</style>\n",
       "<table border=\"1\" class=\"dataframe\">\n",
       "  <thead>\n",
       "    <tr style=\"text-align: right;\">\n",
       "      <th></th>\n",
       "      <th>price</th>\n",
       "      <th>year</th>\n",
       "      <th>brand</th>\n",
       "      <th>model</th>\n",
       "      <th>kms</th>\n",
       "      <th>owner</th>\n",
       "      <th>Fuel</th>\n",
       "      <th>location</th>\n",
       "    </tr>\n",
       "  </thead>\n",
       "  <tbody>\n",
       "    <tr>\n",
       "      <th>0</th>\n",
       "      <td>455299.0</td>\n",
       "      <td>2015</td>\n",
       "      <td>15</td>\n",
       "      <td>157</td>\n",
       "      <td>76264</td>\n",
       "      <td>1</td>\n",
       "      <td>0</td>\n",
       "      <td>7</td>\n",
       "    </tr>\n",
       "    <tr>\n",
       "      <th>1</th>\n",
       "      <td>535899.0</td>\n",
       "      <td>2013</td>\n",
       "      <td>23</td>\n",
       "      <td>90</td>\n",
       "      <td>138351</td>\n",
       "      <td>2</td>\n",
       "      <td>0</td>\n",
       "      <td>7</td>\n",
       "    </tr>\n",
       "    <tr>\n",
       "      <th>2</th>\n",
       "      <td>330599.0</td>\n",
       "      <td>2014</td>\n",
       "      <td>15</td>\n",
       "      <td>157</td>\n",
       "      <td>71450</td>\n",
       "      <td>2</td>\n",
       "      <td>0</td>\n",
       "      <td>7</td>\n",
       "    </tr>\n",
       "    <tr>\n",
       "      <th>3</th>\n",
       "      <td>405199.0</td>\n",
       "      <td>2015</td>\n",
       "      <td>15</td>\n",
       "      <td>157</td>\n",
       "      <td>37925</td>\n",
       "      <td>1</td>\n",
       "      <td>0</td>\n",
       "      <td>7</td>\n",
       "    </tr>\n",
       "    <tr>\n",
       "      <th>4</th>\n",
       "      <td>1271199.0</td>\n",
       "      <td>2020</td>\n",
       "      <td>7</td>\n",
       "      <td>36</td>\n",
       "      <td>10322</td>\n",
       "      <td>1</td>\n",
       "      <td>3</td>\n",
       "      <td>7</td>\n",
       "    </tr>\n",
       "    <tr>\n",
       "      <th>...</th>\n",
       "      <td>...</td>\n",
       "      <td>...</td>\n",
       "      <td>...</td>\n",
       "      <td>...</td>\n",
       "      <td>...</td>\n",
       "      <td>...</td>\n",
       "      <td>...</td>\n",
       "      <td>...</td>\n",
       "    </tr>\n",
       "    <tr>\n",
       "      <th>5006</th>\n",
       "      <td>975000.0</td>\n",
       "      <td>2016</td>\n",
       "      <td>8</td>\n",
       "      <td>42</td>\n",
       "      <td>63314</td>\n",
       "      <td>1</td>\n",
       "      <td>0</td>\n",
       "      <td>8</td>\n",
       "    </tr>\n",
       "    <tr>\n",
       "      <th>5007</th>\n",
       "      <td>375950.0</td>\n",
       "      <td>2011</td>\n",
       "      <td>14</td>\n",
       "      <td>148</td>\n",
       "      <td>79362</td>\n",
       "      <td>3</td>\n",
       "      <td>0</td>\n",
       "      <td>8</td>\n",
       "    </tr>\n",
       "    <tr>\n",
       "      <th>5008</th>\n",
       "      <td>435000.0</td>\n",
       "      <td>2013</td>\n",
       "      <td>19</td>\n",
       "      <td>46</td>\n",
       "      <td>65100</td>\n",
       "      <td>1</td>\n",
       "      <td>0</td>\n",
       "      <td>8</td>\n",
       "    </tr>\n",
       "    <tr>\n",
       "      <th>5009</th>\n",
       "      <td>156000.0</td>\n",
       "      <td>2013</td>\n",
       "      <td>2</td>\n",
       "      <td>21</td>\n",
       "      <td>77000</td>\n",
       "      <td>1</td>\n",
       "      <td>0</td>\n",
       "      <td>8</td>\n",
       "    </tr>\n",
       "    <tr>\n",
       "      <th>5010</th>\n",
       "      <td>283250.0</td>\n",
       "      <td>2011</td>\n",
       "      <td>15</td>\n",
       "      <td>157</td>\n",
       "      <td>62000</td>\n",
       "      <td>2</td>\n",
       "      <td>3</td>\n",
       "      <td>8</td>\n",
       "    </tr>\n",
       "  </tbody>\n",
       "</table>\n",
       "<p>5011 rows × 8 columns</p>\n",
       "</div>"
      ],
      "text/plain": [
       "          price  year  brand  model     kms  owner  Fuel  location\n",
       "0      455299.0  2015     15    157   76264      1     0         7\n",
       "1      535899.0  2013     23     90  138351      2     0         7\n",
       "2      330599.0  2014     15    157   71450      2     0         7\n",
       "3      405199.0  2015     15    157   37925      1     0         7\n",
       "4     1271199.0  2020      7     36   10322      1     3         7\n",
       "...         ...   ...    ...    ...     ...    ...   ...       ...\n",
       "5006   975000.0  2016      8     42   63314      1     0         8\n",
       "5007   375950.0  2011     14    148   79362      3     0         8\n",
       "5008   435000.0  2013     19     46   65100      1     0         8\n",
       "5009   156000.0  2013      2     21   77000      1     0         8\n",
       "5010   283250.0  2011     15    157   62000      2     3         8\n",
       "\n",
       "[5011 rows x 8 columns]"
      ]
     },
     "execution_count": 33,
     "metadata": {},
     "output_type": "execute_result"
    }
   ],
   "source": [
    "df1"
   ]
  },
  {
   "cell_type": "code",
   "execution_count": 133,
   "metadata": {},
   "outputs": [],
   "source": [
    "y=df['price']"
   ]
  },
  {
   "cell_type": "code",
   "execution_count": 139,
   "metadata": {},
   "outputs": [],
   "source": []
  },
  {
   "cell_type": "code",
   "execution_count": 34,
   "metadata": {},
   "outputs": [
    {
     "data": {
      "text/plain": [
       "(4680, 8)"
      ]
     },
     "execution_count": 34,
     "metadata": {},
     "output_type": "execute_result"
    }
   ],
   "source": [
    "# removing outliers\n",
    "from scipy.stats import zscore\n",
    "z=np.abs(zscore(df1))\n",
    "threshold=3\n",
    "dfnew=df1[(z<3).all(axis=1)]\n",
    "dfnew.shape"
   ]
  },
  {
   "cell_type": "code",
   "execution_count": 35,
   "metadata": {},
   "outputs": [],
   "source": [
    "x=dfnew.drop(['price'],axis=1)\n",
    "y=dfnew['price']"
   ]
  },
  {
   "cell_type": "code",
   "execution_count": 36,
   "metadata": {},
   "outputs": [],
   "source": [
    "#Scaling the x using standard scaler\n",
    "from sklearn.preprocessing import StandardScaler\n",
    "sc = StandardScaler().fit(x)\n",
    "x_std = sc.fit_transform(x)"
   ]
  },
  {
   "cell_type": "code",
   "execution_count": 28,
   "metadata": {},
   "outputs": [],
   "source": [
    "from sklearn.linear_model import LinearRegression\n",
    "from sklearn.tree import DecisionTreeRegressor\n",
    "from sklearn.ensemble import AdaBoostRegressor\n",
    "from sklearn.neighbors import KNeighborsRegressor\n",
    "from sklearn.metrics import mean_squared_error,mean_absolute_error\n",
    "from sklearn.metrics import r2_score,accuracy_score\n",
    "from sklearn.model_selection import train_test_split"
   ]
  },
  {
   "cell_type": "code",
   "execution_count": 37,
   "metadata": {},
   "outputs": [
    {
     "name": "stdout",
     "output_type": "stream",
     "text": [
      "max r2 score correspond to random state 76 is 0.7179849012515411 and model is DecisionTreeRegressor()\n"
     ]
    }
   ],
   "source": [
    "model=[DecisionTreeRegressor(),KNeighborsRegressor(),AdaBoostRegressor(),LinearRegression()]\n",
    "max_r2_score=0\n",
    "for r_state in range(40,90):\n",
    "    x_train,x_test,y_train,y_test=train_test_split(x_std,y,random_state=r_state,test_size=0.33)\n",
    "    for i in model:\n",
    "        i.fit(x_train,y_train)\n",
    "        pred=i.predict(x_test)\n",
    "        r2_sc=r2_score(y_test,pred)\n",
    "        if r2_sc>max_r2_score:\n",
    "            max_r2_score=r2_sc\n",
    "            final_state=r_state\n",
    "            final_model=i\n",
    "\n",
    "print(\"max r2 score correspond to random state\",final_state,\"is\",max_r2_score,\"and model is\",final_model)"
   ]
  },
  {
   "cell_type": "code",
   "execution_count": 42,
   "metadata": {},
   "outputs": [],
   "source": [
    "x_train,x_test,y_train,y_test=train_test_split(x_std,y,random_state=76,test_size=0.33)"
   ]
  },
  {
   "cell_type": "code",
   "execution_count": 43,
   "metadata": {},
   "outputs": [],
   "source": [
    "from sklearn.model_selection import cross_val_score"
   ]
  },
  {
   "cell_type": "code",
   "execution_count": 44,
   "metadata": {},
   "outputs": [
    {
     "name": "stdout",
     "output_type": "stream",
     "text": [
      "0.5467954134969226\n"
     ]
    }
   ],
   "source": [
    "print(cross_val_score(DecisionTreeRegressor(),x_std,y,cv=5).mean())"
   ]
  },
  {
   "cell_type": "code",
   "execution_count": 160,
   "metadata": {},
   "outputs": [],
   "source": [
    "from sklearn.model_selection import GridSearchCV"
   ]
  },
  {
   "cell_type": "code",
   "execution_count": 162,
   "metadata": {},
   "outputs": [
    {
     "data": {
      "text/plain": [
       "{'criterion': 'squared_error',\n",
       " 'max_depth': 8,\n",
       " 'max_features': 'auto',\n",
       " 'min_samples_leaf': 2,\n",
       " 'splitter': 'best'}"
      ]
     },
     "execution_count": 162,
     "metadata": {},
     "output_type": "execute_result"
    }
   ],
   "source": [
    "parameter={'criterion':[\"squared_error\", \"absolute_error\"],\n",
    "          'max_depth':range(1,9),\n",
    "          'max_features':[\"auto\", \"sqrt\", \"log2\"],\n",
    "          'min_samples_leaf':(1,2),\n",
    "          'splitter':['best','random']}\n",
    "GCV=GridSearchCV(DecisionTreeRegressor(),parameter,cv=5)\n",
    "GCV.fit(x_train,y_train)\n",
    "\n",
    "GCV.best_params_"
   ]
  },
  {
   "cell_type": "code",
   "execution_count": 45,
   "metadata": {},
   "outputs": [
    {
     "name": "stdout",
     "output_type": "stream",
     "text": [
      "0.6702326124420339\n"
     ]
    }
   ],
   "source": [
    "final_mod=DecisionTreeRegressor(criterion='squared_error',max_depth=8,\n",
    "                                max_features='auto',min_samples_leaf=2,splitter='best')\n",
    "final_mod.fit(x_train,y_train)\n",
    "pred=final_mod.predict(x_test)\n",
    "acc=r2_score(y_test,pred)\n",
    "print(acc)"
   ]
  },
  {
   "cell_type": "code",
   "execution_count": 46,
   "metadata": {},
   "outputs": [
    {
     "name": "stdout",
     "output_type": "stream",
     "text": [
      "Error:\n",
      "Mean absolute error: 116455.31758375368\n",
      "Mean squared error: 30734956128.454994\n",
      "Root Mean square error: 175313.8788814365\n"
     ]
    }
   ],
   "source": [
    "print('Error:')\n",
    "\n",
    "print(\"Mean absolute error:\",mean_absolute_error(y_test,pred))\n",
    "print('Mean squared error:',mean_squared_error(y_test,pred))\n",
    "\n",
    "print('Root Mean square error:',np.sqrt(mean_squared_error(y_test,pred)))"
   ]
  },
  {
   "cell_type": "code",
   "execution_count": 176,
   "metadata": {},
   "outputs": [
    {
     "data": {
      "text/html": [
       "<div>\n",
       "<style scoped>\n",
       "    .dataframe tbody tr th:only-of-type {\n",
       "        vertical-align: middle;\n",
       "    }\n",
       "\n",
       "    .dataframe tbody tr th {\n",
       "        vertical-align: top;\n",
       "    }\n",
       "\n",
       "    .dataframe thead th {\n",
       "        text-align: right;\n",
       "    }\n",
       "</style>\n",
       "<table border=\"1\" class=\"dataframe\">\n",
       "  <thead>\n",
       "    <tr style=\"text-align: right;\">\n",
       "      <th></th>\n",
       "      <th>year</th>\n",
       "      <th>brand</th>\n",
       "      <th>model</th>\n",
       "      <th>kms</th>\n",
       "      <th>owner</th>\n",
       "      <th>Fuel</th>\n",
       "      <th>location</th>\n",
       "    </tr>\n",
       "  </thead>\n",
       "  <tbody>\n",
       "    <tr>\n",
       "      <th>10</th>\n",
       "      <td>2018</td>\n",
       "      <td>8</td>\n",
       "      <td>42</td>\n",
       "      <td>39294</td>\n",
       "      <td>2</td>\n",
       "      <td>3</td>\n",
       "      <td>7</td>\n",
       "    </tr>\n",
       "    <tr>\n",
       "      <th>11</th>\n",
       "      <td>2019</td>\n",
       "      <td>15</td>\n",
       "      <td>20</td>\n",
       "      <td>20976</td>\n",
       "      <td>1</td>\n",
       "      <td>3</td>\n",
       "      <td>7</td>\n",
       "    </tr>\n",
       "    <tr>\n",
       "      <th>12</th>\n",
       "      <td>2017</td>\n",
       "      <td>24</td>\n",
       "      <td>13</td>\n",
       "      <td>40293</td>\n",
       "      <td>2</td>\n",
       "      <td>3</td>\n",
       "      <td>7</td>\n",
       "    </tr>\n",
       "    <tr>\n",
       "      <th>13</th>\n",
       "      <td>2014</td>\n",
       "      <td>7</td>\n",
       "      <td>26</td>\n",
       "      <td>49831</td>\n",
       "      <td>1</td>\n",
       "      <td>3</td>\n",
       "      <td>7</td>\n",
       "    </tr>\n",
       "    <tr>\n",
       "      <th>14</th>\n",
       "      <td>2016</td>\n",
       "      <td>15</td>\n",
       "      <td>178</td>\n",
       "      <td>72378</td>\n",
       "      <td>1</td>\n",
       "      <td>0</td>\n",
       "      <td>7</td>\n",
       "    </tr>\n",
       "    <tr>\n",
       "      <th>15</th>\n",
       "      <td>2015</td>\n",
       "      <td>8</td>\n",
       "      <td>42</td>\n",
       "      <td>80045</td>\n",
       "      <td>2</td>\n",
       "      <td>0</td>\n",
       "      <td>7</td>\n",
       "    </tr>\n",
       "    <tr>\n",
       "      <th>17</th>\n",
       "      <td>2017</td>\n",
       "      <td>15</td>\n",
       "      <td>158</td>\n",
       "      <td>51316</td>\n",
       "      <td>2</td>\n",
       "      <td>0</td>\n",
       "      <td>7</td>\n",
       "    </tr>\n",
       "    <tr>\n",
       "      <th>18</th>\n",
       "      <td>2019</td>\n",
       "      <td>15</td>\n",
       "      <td>35</td>\n",
       "      <td>7620</td>\n",
       "      <td>2</td>\n",
       "      <td>3</td>\n",
       "      <td>7</td>\n",
       "    </tr>\n",
       "    <tr>\n",
       "      <th>19</th>\n",
       "      <td>2020</td>\n",
       "      <td>7</td>\n",
       "      <td>12</td>\n",
       "      <td>12514</td>\n",
       "      <td>1</td>\n",
       "      <td>3</td>\n",
       "      <td>7</td>\n",
       "    </tr>\n",
       "    <tr>\n",
       "      <th>20</th>\n",
       "      <td>2016</td>\n",
       "      <td>15</td>\n",
       "      <td>178</td>\n",
       "      <td>41629</td>\n",
       "      <td>1</td>\n",
       "      <td>0</td>\n",
       "      <td>7</td>\n",
       "    </tr>\n",
       "  </tbody>\n",
       "</table>\n",
       "</div>"
      ],
      "text/plain": [
       "    year  brand  model    kms  owner  Fuel  location\n",
       "10  2018      8     42  39294      2     3         7\n",
       "11  2019     15     20  20976      1     3         7\n",
       "12  2017     24     13  40293      2     3         7\n",
       "13  2014      7     26  49831      1     3         7\n",
       "14  2016     15    178  72378      1     0         7\n",
       "15  2015      8     42  80045      2     0         7\n",
       "17  2017     15    158  51316      2     0         7\n",
       "18  2019     15     35   7620      2     3         7\n",
       "19  2020      7     12  12514      1     3         7\n",
       "20  2016     15    178  41629      1     0         7"
      ]
     },
     "execution_count": 176,
     "metadata": {},
     "output_type": "execute_result"
    }
   ],
   "source": [
    "x[10:20]"
   ]
  },
  {
   "cell_type": "code",
   "execution_count": 177,
   "metadata": {},
   "outputs": [
    {
     "data": {
      "text/html": [
       "<div>\n",
       "<style scoped>\n",
       "    .dataframe tbody tr th:only-of-type {\n",
       "        vertical-align: middle;\n",
       "    }\n",
       "\n",
       "    .dataframe tbody tr th {\n",
       "        vertical-align: top;\n",
       "    }\n",
       "\n",
       "    .dataframe thead th {\n",
       "        text-align: right;\n",
       "    }\n",
       "</style>\n",
       "<table border=\"1\" class=\"dataframe\">\n",
       "  <thead>\n",
       "    <tr style=\"text-align: right;\">\n",
       "      <th></th>\n",
       "      <th>price</th>\n",
       "      <th>year</th>\n",
       "      <th>brand</th>\n",
       "      <th>model</th>\n",
       "      <th>kms</th>\n",
       "      <th>owner</th>\n",
       "      <th>Fuel</th>\n",
       "      <th>location</th>\n",
       "    </tr>\n",
       "  </thead>\n",
       "  <tbody>\n",
       "    <tr>\n",
       "      <th>10</th>\n",
       "      <td>898799.0</td>\n",
       "      <td>2018</td>\n",
       "      <td>8</td>\n",
       "      <td>42</td>\n",
       "      <td>39294</td>\n",
       "      <td>2</td>\n",
       "      <td>3</td>\n",
       "      <td>7</td>\n",
       "    </tr>\n",
       "    <tr>\n",
       "      <th>11</th>\n",
       "      <td>712399.0</td>\n",
       "      <td>2019</td>\n",
       "      <td>15</td>\n",
       "      <td>20</td>\n",
       "      <td>20976</td>\n",
       "      <td>1</td>\n",
       "      <td>3</td>\n",
       "      <td>7</td>\n",
       "    </tr>\n",
       "    <tr>\n",
       "      <th>12</th>\n",
       "      <td>517799.0</td>\n",
       "      <td>2017</td>\n",
       "      <td>24</td>\n",
       "      <td>13</td>\n",
       "      <td>40293</td>\n",
       "      <td>2</td>\n",
       "      <td>3</td>\n",
       "      <td>7</td>\n",
       "    </tr>\n",
       "    <tr>\n",
       "      <th>13</th>\n",
       "      <td>330899.0</td>\n",
       "      <td>2014</td>\n",
       "      <td>7</td>\n",
       "      <td>26</td>\n",
       "      <td>49831</td>\n",
       "      <td>1</td>\n",
       "      <td>3</td>\n",
       "      <td>7</td>\n",
       "    </tr>\n",
       "    <tr>\n",
       "      <th>14</th>\n",
       "      <td>658799.0</td>\n",
       "      <td>2016</td>\n",
       "      <td>15</td>\n",
       "      <td>178</td>\n",
       "      <td>72378</td>\n",
       "      <td>1</td>\n",
       "      <td>0</td>\n",
       "      <td>7</td>\n",
       "    </tr>\n",
       "    <tr>\n",
       "      <th>15</th>\n",
       "      <td>776799.0</td>\n",
       "      <td>2015</td>\n",
       "      <td>8</td>\n",
       "      <td>42</td>\n",
       "      <td>80045</td>\n",
       "      <td>2</td>\n",
       "      <td>0</td>\n",
       "      <td>7</td>\n",
       "    </tr>\n",
       "    <tr>\n",
       "      <th>17</th>\n",
       "      <td>515599.0</td>\n",
       "      <td>2017</td>\n",
       "      <td>15</td>\n",
       "      <td>158</td>\n",
       "      <td>51316</td>\n",
       "      <td>2</td>\n",
       "      <td>0</td>\n",
       "      <td>7</td>\n",
       "    </tr>\n",
       "    <tr>\n",
       "      <th>18</th>\n",
       "      <td>825399.0</td>\n",
       "      <td>2019</td>\n",
       "      <td>15</td>\n",
       "      <td>35</td>\n",
       "      <td>7620</td>\n",
       "      <td>2</td>\n",
       "      <td>3</td>\n",
       "      <td>7</td>\n",
       "    </tr>\n",
       "    <tr>\n",
       "      <th>19</th>\n",
       "      <td>646899.0</td>\n",
       "      <td>2020</td>\n",
       "      <td>7</td>\n",
       "      <td>12</td>\n",
       "      <td>12514</td>\n",
       "      <td>1</td>\n",
       "      <td>3</td>\n",
       "      <td>7</td>\n",
       "    </tr>\n",
       "    <tr>\n",
       "      <th>20</th>\n",
       "      <td>784299.0</td>\n",
       "      <td>2016</td>\n",
       "      <td>15</td>\n",
       "      <td>178</td>\n",
       "      <td>41629</td>\n",
       "      <td>1</td>\n",
       "      <td>0</td>\n",
       "      <td>7</td>\n",
       "    </tr>\n",
       "  </tbody>\n",
       "</table>\n",
       "</div>"
      ],
      "text/plain": [
       "       price  year  brand  model    kms  owner  Fuel  location\n",
       "10  898799.0  2018      8     42  39294      2     3         7\n",
       "11  712399.0  2019     15     20  20976      1     3         7\n",
       "12  517799.0  2017     24     13  40293      2     3         7\n",
       "13  330899.0  2014      7     26  49831      1     3         7\n",
       "14  658799.0  2016     15    178  72378      1     0         7\n",
       "15  776799.0  2015      8     42  80045      2     0         7\n",
       "17  515599.0  2017     15    158  51316      2     0         7\n",
       "18  825399.0  2019     15     35   7620      2     3         7\n",
       "19  646899.0  2020      7     12  12514      1     3         7\n",
       "20  784299.0  2016     15    178  41629      1     0         7"
      ]
     },
     "execution_count": 177,
     "metadata": {},
     "output_type": "execute_result"
    }
   ],
   "source": [
    "dfnew[10:20]"
   ]
  },
  {
   "cell_type": "code",
   "execution_count": 47,
   "metadata": {},
   "outputs": [
    {
     "name": "stderr",
     "output_type": "stream",
     "text": [
      "C:\\Users\\Asus\\anaconda3\\lib\\site-packages\\sklearn\\base.py:434: UserWarning: X has feature names, but DecisionTreeRegressor was fitted without feature names\n",
      "  warnings.warn(\n"
     ]
    },
    {
     "data": {
      "text/plain": [
       "array([820999.5, 820999.5, 820999.5, 820999.5, 820999.5, 820999.5,\n",
       "       820999.5, 820999.5, 820999.5, 820999.5])"
      ]
     },
     "execution_count": 47,
     "metadata": {},
     "output_type": "execute_result"
    }
   ],
   "source": [
    "final_mod.predict(x[10:20])"
   ]
  },
  {
   "cell_type": "code",
   "execution_count": 181,
   "metadata": {},
   "outputs": [
    {
     "data": {
      "text/plain": [
       "['usedcar.obj']"
      ]
     },
     "execution_count": 181,
     "metadata": {},
     "output_type": "execute_result"
    }
   ],
   "source": [
    "import joblib\n",
    "joblib.dump(final_mod,'usedcar.obj')"
   ]
  }
 ],
 "metadata": {
  "kernelspec": {
   "display_name": "Python 3",
   "language": "python",
   "name": "python3"
  },
  "language_info": {
   "codemirror_mode": {
    "name": "ipython",
    "version": 3
   },
   "file_extension": ".py",
   "mimetype": "text/x-python",
   "name": "python",
   "nbconvert_exporter": "python",
   "pygments_lexer": "ipython3",
   "version": "3.8.5"
  }
 },
 "nbformat": 4,
 "nbformat_minor": 4
}
