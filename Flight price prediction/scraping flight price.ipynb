{
 "cells": [
  {
   "cell_type": "code",
   "execution_count": 79,
   "metadata": {},
   "outputs": [],
   "source": [
    "import selenium\n",
    "import pandas as pd\n",
    "import numpy as np\n",
    "from selenium import webdriver\n",
    "from selenium.common.exceptions import StaleElementReferenceException,NoSuchElementException\n",
    "import time\n",
    "from bs4 import BeautifulSoup\n",
    "import requests\n",
    "from selenium.webdriver.common.keys import Keys"
   ]
  },
  {
   "cell_type": "code",
   "execution_count": 218,
   "metadata": {},
   "outputs": [
    {
     "name": "stderr",
     "output_type": "stream",
     "text": [
      "<ipython-input-218-172d10b980d9>:1: DeprecationWarning: executable_path has been deprecated, please pass in a Service object\n",
      "  driver=webdriver.Chrome(r'C:\\Users\\Asus\\Downloads\\chrome_driver_win32\\chromedriver')\n"
     ]
    }
   ],
   "source": [
    "driver=webdriver.Chrome(r'C:\\Users\\Asus\\Downloads\\chrome_driver_win32\\chromedriver')\n",
    "driver.get('https://www.yatra.com')"
   ]
  },
  {
   "cell_type": "code",
   "execution_count": 141,
   "metadata": {},
   "outputs": [
    {
     "name": "stderr",
     "output_type": "stream",
     "text": [
      "<ipython-input-141-081e66b935d9>:1: DeprecationWarning: find_element_by_* commands are deprecated. Please use find_element() instead\n",
      "  src=driver.find_element_by_id('BE_flight_flsearch_btn')\n"
     ]
    }
   ],
   "source": [
    "src=driver.find_element_by_id('BE_flight_flsearch_btn')\n",
    "src.click()"
   ]
  },
  {
   "cell_type": "code",
   "execution_count": 129,
   "metadata": {},
   "outputs": [],
   "source": [
    "date=[]\n",
    "stops=[]\n",
    "arrival=[]\n",
    "source=[]\n",
    "airline=[]\n",
    "destination=[]\n",
    "departure=[]\n",
    "duration=[]"
   ]
  },
  {
   "cell_type": "code",
   "execution_count": null,
   "metadata": {},
   "outputs": [],
   "source": []
  },
  {
   "cell_type": "code",
   "execution_count": 165,
   "metadata": {},
   "outputs": [
    {
     "name": "stderr",
     "output_type": "stream",
     "text": [
      "<ipython-input-165-3a8ceecc6a69>:1: DeprecationWarning: find_element_by_* commands are deprecated. Please use find_element() instead\n",
      "  html = driver.find_element_by_tag_name('html')\n"
     ]
    }
   ],
   "source": [
    "html = driver.find_element_by_tag_name('html')\n",
    "for i in range(10):\n",
    "    html.send_keys(Keys.END)\n",
    "    time.sleep(3)"
   ]
  },
  {
   "cell_type": "code",
   "execution_count": 427,
   "metadata": {},
   "outputs": [
    {
     "name": "stderr",
     "output_type": "stream",
     "text": [
      "<ipython-input-427-8fb7e3f83f66>:2: DeprecationWarning: find_elements_by_* commands are deprecated. Please use find_elements() instead\n",
      "  AL=driver.find_elements_by_xpath('//span[@class=\"i-b text ellipsis\"]')\n",
      "<ipython-input-427-8fb7e3f83f66>:7: DeprecationWarning: find_elements_by_* commands are deprecated. Please use find_elements() instead\n",
      "  SRC=driver.find_elements_by_xpath('//div[@class=\"i-b col-4 no-wrap text-right dtime col-3\"]/p')\n",
      "<ipython-input-427-8fb7e3f83f66>:8: DeprecationWarning: find_elements_by_* commands are deprecated. Please use find_elements() instead\n",
      "  DST=driver.find_elements_by_xpath('//div[@class=\"i-b pdd-0 text-left atime col-5\"]/p[2]')\n",
      "<ipython-input-427-8fb7e3f83f66>:15: DeprecationWarning: find_elements_by_* commands are deprecated. Please use find_elements() instead\n",
      "  arr=driver.find_elements_by_xpath('//p[@class=\"bold fs-15 mb-2 pr time\"]')\n",
      "<ipython-input-427-8fb7e3f83f66>:16: DeprecationWarning: find_elements_by_* commands are deprecated. Please use find_elements() instead\n",
      "  dep=driver.find_elements_by_xpath('//div[@class=\"i-b pr\"]')\n",
      "<ipython-input-427-8fb7e3f83f66>:22: DeprecationWarning: find_elements_by_* commands are deprecated. Please use find_elements() instead\n",
      "  dur=driver.find_elements_by_xpath('//p[@class=\"fs-12 bold du mb-2\"]')\n",
      "<ipython-input-427-8fb7e3f83f66>:26: DeprecationWarning: find_elements_by_* commands are deprecated. Please use find_elements() instead\n",
      "  stp=driver.find_elements_by_xpath('//div[@class=\" font-lightgrey fs-10 tipsy i-b fs-10\"]/span')\n",
      "<ipython-input-427-8fb7e3f83f66>:30: DeprecationWarning: find_elements_by_* commands are deprecated. Please use find_elements() instead\n",
      "  prc=driver.find_elements_by_xpath('//div[@class=\"i-b tipsy fare-summary-tooltip fs-18\"]')\n"
     ]
    }
   ],
   "source": [
    "\n",
    "airline=[]\n",
    "AL=driver.find_elements_by_xpath('//span[@class=\"i-b text ellipsis\"]')\n",
    "for i in AL:\n",
    "    airline.append(i.get_attribute(\"title\"))\n",
    "source=[]\n",
    "destination=[]\n",
    "SRC=driver.find_elements_by_xpath('//div[@class=\"i-b col-4 no-wrap text-right dtime col-3\"]/p')\n",
    "DST=driver.find_elements_by_xpath('//div[@class=\"i-b pdd-0 text-left atime col-5\"]/p[2]')\n",
    "for i in SRC:\n",
    "        source.append(i.get_attribute(\"title\"))\n",
    "for d in DST:\n",
    "        destination.append(d.get_attribute(\"title\"))     \n",
    "arrival=[]\n",
    "departure=[]\n",
    "arr=driver.find_elements_by_xpath('//p[@class=\"bold fs-15 mb-2 pr time\"]')\n",
    "dep=driver.find_elements_by_xpath('//div[@class=\"i-b pr\"]')\n",
    "for a in arr:\n",
    "    arrival.append(a.text)\n",
    "for de in dep:\n",
    "    departure.append(de.text)\n",
    "duration=[]\n",
    "dur=driver.find_elements_by_xpath('//p[@class=\"fs-12 bold du mb-2\"]')\n",
    "for du in dur:\n",
    "    duration.append(du.text)\n",
    "stops=[]\n",
    "stp=driver.find_elements_by_xpath('//div[@class=\" font-lightgrey fs-10 tipsy i-b fs-10\"]/span')\n",
    "for st in stp:\n",
    "        stops.append(st.text)\n",
    "price=[]\n",
    "prc=driver.find_elements_by_xpath('//div[@class=\"i-b tipsy fare-summary-tooltip fs-18\"]')\n",
    "for p in prc:\n",
    "    price.append(p.text)\n",
    "date=[]\n",
    "#D=driver.find_element_by_xpath('//p[@class=\"fs-12\"]')\n",
    "for dt in range(len(prc)):\n",
    "    date.append('Wed,8 June')"
   ]
  },
  {
   "cell_type": "code",
   "execution_count": 333,
   "metadata": {},
   "outputs": [
    {
     "name": "stdout",
     "output_type": "stream",
     "text": [
      "52 52 52 52 52 52 52 52 52\n"
     ]
    }
   ],
   "source": [
    "print(len(departure),len(arrival),len(stops),len(source),len(destination),len(duration),len(price),len(date),len(airline))"
   ]
  },
  {
   "cell_type": "code",
   "execution_count": 428,
   "metadata": {},
   "outputs": [
    {
     "name": "stdout",
     "output_type": "stream",
     "text": [
      "132 132 132 132 132 132 132 132\n"
     ]
    }
   ],
   "source": [
    "print(len(departure),len(arrival),len(stops),len(source),len(destination),len(duration),len(price),len(date))"
   ]
  },
  {
   "cell_type": "code",
   "execution_count": null,
   "metadata": {},
   "outputs": [],
   "source": [
    "prod_df = pd.DataFrame({'Brand':Brand,'Name':Name,'Rating':Rating,'No. of ratings':no_of_ratings,'Price':Price,\n",
    "                        'Return/Exchange':Return,'Expected Delivery':expected_delivery,'Availability':Availability,\n",
    "                        'Other Details':Other_Details,'URL':product_urls})"
   ]
  },
  {
   "cell_type": "code",
   "execution_count": 429,
   "metadata": {},
   "outputs": [],
   "source": [
    "datajun8=pd.DataFrame({\"Date\":date,\"Airline\":airline,\"Departure Time\":departure,\"Arrival Time\":arrival,\"Stops\":stops,\"Source\":source,\"Destination\":destination,\"Duration\":duration,\"Price\":price})"
   ]
  },
  {
   "cell_type": "code",
   "execution_count": 439,
   "metadata": {},
   "outputs": [],
   "source": [
    "data_kolmum=data_kolmum.append(datajun8)"
   ]
  },
  {
   "cell_type": "code",
   "execution_count": 443,
   "metadata": {},
   "outputs": [
    {
     "data": {
      "text/html": [
       "<div>\n",
       "<style scoped>\n",
       "    .dataframe tbody tr th:only-of-type {\n",
       "        vertical-align: middle;\n",
       "    }\n",
       "\n",
       "    .dataframe tbody tr th {\n",
       "        vertical-align: top;\n",
       "    }\n",
       "\n",
       "    .dataframe thead th {\n",
       "        text-align: right;\n",
       "    }\n",
       "</style>\n",
       "<table border=\"1\" class=\"dataframe\">\n",
       "  <thead>\n",
       "    <tr style=\"text-align: right;\">\n",
       "      <th></th>\n",
       "      <th>Date</th>\n",
       "      <th>Airline</th>\n",
       "      <th>Departure Time</th>\n",
       "      <th>Arrival Time</th>\n",
       "      <th>Stops</th>\n",
       "      <th>Source</th>\n",
       "      <th>Destination</th>\n",
       "      <th>Duration</th>\n",
       "      <th>Price</th>\n",
       "    </tr>\n",
       "  </thead>\n",
       "  <tbody>\n",
       "    <tr>\n",
       "      <th>0</th>\n",
       "      <td>Fri,4 Feb</td>\n",
       "      <td>Go First</td>\n",
       "      <td>06:00</td>\n",
       "      <td>12:50</td>\n",
       "      <td>1 Stop</td>\n",
       "      <td>Kolkata</td>\n",
       "      <td>Mumbai</td>\n",
       "      <td>6h 50m</td>\n",
       "      <td>7,801</td>\n",
       "    </tr>\n",
       "    <tr>\n",
       "      <th>1</th>\n",
       "      <td>Fri,4 Feb</td>\n",
       "      <td>Go First</td>\n",
       "      <td>14:20</td>\n",
       "      <td>21:55</td>\n",
       "      <td>1 Stop</td>\n",
       "      <td>Kolkata</td>\n",
       "      <td>Mumbai</td>\n",
       "      <td>7h 35m</td>\n",
       "      <td>7,801</td>\n",
       "    </tr>\n",
       "    <tr>\n",
       "      <th>2</th>\n",
       "      <td>Fri,4 Feb</td>\n",
       "      <td>Go First</td>\n",
       "      <td>14:20</td>\n",
       "      <td>23:15</td>\n",
       "      <td>1 Stop</td>\n",
       "      <td>Kolkata</td>\n",
       "      <td>Mumbai</td>\n",
       "      <td>8h 55m</td>\n",
       "      <td>7,801</td>\n",
       "    </tr>\n",
       "    <tr>\n",
       "      <th>3</th>\n",
       "      <td>Fri,4 Feb</td>\n",
       "      <td>Go First</td>\n",
       "      <td>16:25</td>\n",
       "      <td>02:00\\n+ 1 day</td>\n",
       "      <td>1 Stop</td>\n",
       "      <td>Kolkata</td>\n",
       "      <td>Mumbai</td>\n",
       "      <td>9h 35m</td>\n",
       "      <td>7,801</td>\n",
       "    </tr>\n",
       "    <tr>\n",
       "      <th>4</th>\n",
       "      <td>Fri,4 Feb</td>\n",
       "      <td>Go First</td>\n",
       "      <td>14:20</td>\n",
       "      <td>00:40\\n+ 1 day</td>\n",
       "      <td>1 Stop</td>\n",
       "      <td>Kolkata</td>\n",
       "      <td>Mumbai</td>\n",
       "      <td>10h 20m</td>\n",
       "      <td>7,801</td>\n",
       "    </tr>\n",
       "    <tr>\n",
       "      <th>...</th>\n",
       "      <td>...</td>\n",
       "      <td>...</td>\n",
       "      <td>...</td>\n",
       "      <td>...</td>\n",
       "      <td>...</td>\n",
       "      <td>...</td>\n",
       "      <td>...</td>\n",
       "      <td>...</td>\n",
       "      <td>...</td>\n",
       "    </tr>\n",
       "    <tr>\n",
       "      <th>99</th>\n",
       "      <td>Fri,4 Feb</td>\n",
       "      <td>Vistara</td>\n",
       "      <td>10:15</td>\n",
       "      <td>20:15</td>\n",
       "      <td>2 Stop(s)</td>\n",
       "      <td>Kolkata</td>\n",
       "      <td>Mumbai</td>\n",
       "      <td>10h 00m</td>\n",
       "      <td>17,114</td>\n",
       "    </tr>\n",
       "    <tr>\n",
       "      <th>100</th>\n",
       "      <td>Fri,4 Feb</td>\n",
       "      <td>Vistara</td>\n",
       "      <td>10:15</td>\n",
       "      <td>21:50</td>\n",
       "      <td>2 Stop(s)</td>\n",
       "      <td>Kolkata</td>\n",
       "      <td>Mumbai</td>\n",
       "      <td>11h 35m</td>\n",
       "      <td>17,691</td>\n",
       "    </tr>\n",
       "    <tr>\n",
       "      <th>101</th>\n",
       "      <td>Fri,4 Feb</td>\n",
       "      <td>Vistara</td>\n",
       "      <td>10:15</td>\n",
       "      <td>21:35</td>\n",
       "      <td>2 Stop(s)</td>\n",
       "      <td>Kolkata</td>\n",
       "      <td>Mumbai</td>\n",
       "      <td>11h 20m</td>\n",
       "      <td>17,829</td>\n",
       "    </tr>\n",
       "    <tr>\n",
       "      <th>102</th>\n",
       "      <td>Fri,4 Feb</td>\n",
       "      <td>SpiceJet</td>\n",
       "      <td>06:05</td>\n",
       "      <td>22:05</td>\n",
       "      <td>1 Stop</td>\n",
       "      <td>Kolkata</td>\n",
       "      <td>Mumbai</td>\n",
       "      <td>16h 00m</td>\n",
       "      <td>21,687</td>\n",
       "    </tr>\n",
       "    <tr>\n",
       "      <th>103</th>\n",
       "      <td>Fri,4 Feb</td>\n",
       "      <td>SpiceJet</td>\n",
       "      <td>15:55</td>\n",
       "      <td>08:20\\n+ 1 day</td>\n",
       "      <td>1 Stop</td>\n",
       "      <td>Kolkata</td>\n",
       "      <td>Mumbai</td>\n",
       "      <td>16h 25m</td>\n",
       "      <td>21,715</td>\n",
       "    </tr>\n",
       "  </tbody>\n",
       "</table>\n",
       "<p>104 rows × 9 columns</p>\n",
       "</div>"
      ],
      "text/plain": [
       "          Date   Airline Departure Time    Arrival Time      Stops   Source  \\\n",
       "0    Fri,4 Feb  Go First          06:00           12:50     1 Stop  Kolkata   \n",
       "1    Fri,4 Feb  Go First          14:20           21:55     1 Stop  Kolkata   \n",
       "2    Fri,4 Feb  Go First          14:20           23:15     1 Stop  Kolkata   \n",
       "3    Fri,4 Feb  Go First          16:25  02:00\\n+ 1 day     1 Stop  Kolkata   \n",
       "4    Fri,4 Feb  Go First          14:20  00:40\\n+ 1 day     1 Stop  Kolkata   \n",
       "..         ...       ...            ...             ...        ...      ...   \n",
       "99   Fri,4 Feb   Vistara          10:15           20:15  2 Stop(s)  Kolkata   \n",
       "100  Fri,4 Feb   Vistara          10:15           21:50  2 Stop(s)  Kolkata   \n",
       "101  Fri,4 Feb   Vistara          10:15           21:35  2 Stop(s)  Kolkata   \n",
       "102  Fri,4 Feb  SpiceJet          06:05           22:05     1 Stop  Kolkata   \n",
       "103  Fri,4 Feb  SpiceJet          15:55  08:20\\n+ 1 day     1 Stop  Kolkata   \n",
       "\n",
       "    Destination Duration   Price  \n",
       "0        Mumbai   6h 50m   7,801  \n",
       "1        Mumbai   7h 35m   7,801  \n",
       "2        Mumbai   8h 55m   7,801  \n",
       "3        Mumbai   9h 35m   7,801  \n",
       "4        Mumbai  10h 20m   7,801  \n",
       "..          ...      ...     ...  \n",
       "99       Mumbai  10h 00m  17,114  \n",
       "100      Mumbai  11h 35m  17,691  \n",
       "101      Mumbai  11h 20m  17,829  \n",
       "102      Mumbai  16h 00m  21,687  \n",
       "103      Mumbai  16h 25m  21,715  \n",
       "\n",
       "[104 rows x 9 columns]"
      ]
     },
     "execution_count": 443,
     "metadata": {},
     "output_type": "execute_result"
    }
   ],
   "source": [
    "datafeb4"
   ]
  },
  {
   "cell_type": "code",
   "execution_count": 441,
   "metadata": {},
   "outputs": [
    {
     "data": {
      "text/plain": [
       "(1068, 9)"
      ]
     },
     "execution_count": 441,
     "metadata": {},
     "output_type": "execute_result"
    }
   ],
   "source": [
    "data_kolmum.shape"
   ]
  },
  {
   "cell_type": "code",
   "execution_count": 442,
   "metadata": {},
   "outputs": [
    {
     "data": {
      "text/plain": [
       "Thu,26 May    137\n",
       "Mon,9 May     137\n",
       "Sat,2 Apr     136\n",
       "Wed,8 June    132\n",
       "Mon,14 Mar    130\n",
       "Wed,23 Mar    123\n",
       "Tue,15 Feb    105\n",
       "Fri,4 Feb     104\n",
       "Sun,30 Jan     64\n",
       "Name: Date, dtype: int64"
      ]
     },
     "execution_count": 442,
     "metadata": {},
     "output_type": "execute_result"
    }
   ],
   "source": [
    "data_kolmum['Date'].value_counts()"
   ]
  },
  {
   "cell_type": "code",
   "execution_count": 389,
   "metadata": {},
   "outputs": [],
   "source": [
    "data_chenahm=data_chenahm.append(datamay14)"
   ]
  },
  {
   "cell_type": "code",
   "execution_count": 390,
   "metadata": {},
   "outputs": [
    {
     "data": {
      "text/plain": [
       "(701, 9)"
      ]
     },
     "execution_count": 390,
     "metadata": {},
     "output_type": "execute_result"
    }
   ],
   "source": [
    "data_chenahm.shape"
   ]
  },
  {
   "cell_type": "code",
   "execution_count": 391,
   "metadata": {},
   "outputs": [
    {
     "data": {
      "text/plain": [
       "Sat,14 May    162\n",
       "Thu,10 Mar     82\n",
       "Mon,25 Apr     77\n",
       "Mon,28 Feb     76\n",
       "Wed,6 Apr      73\n",
       "Fri,17 Jun     70\n",
       "Sun,30 Jan     57\n",
       "Fri,11 Feb     52\n",
       "Tue,1 Feb      52\n",
       "Name: Date, dtype: int64"
      ]
     },
     "execution_count": 391,
     "metadata": {},
     "output_type": "execute_result"
    }
   ],
   "source": [
    "data_chenahm['Date'].value_counts()"
   ]
  },
  {
   "cell_type": "code",
   "execution_count": null,
   "metadata": {},
   "outputs": [],
   "source": []
  },
  {
   "cell_type": "code",
   "execution_count": 327,
   "metadata": {},
   "outputs": [
    {
     "data": {
      "text/plain": [
       "(797, 9)"
      ]
     },
     "execution_count": 327,
     "metadata": {},
     "output_type": "execute_result"
    }
   ],
   "source": [
    "data_hyddel.shape"
   ]
  },
  {
   "cell_type": "code",
   "execution_count": 326,
   "metadata": {},
   "outputs": [
    {
     "data": {
      "text/plain": [
       "Sun,20 Feb    127\n",
       "Tue,22 Mar    124\n",
       "Mon,6 Jun     122\n",
       "Sun,13 Feb    108\n",
       "Fri,8 Apr     107\n",
       "Thu,3 Feb      72\n",
       "Sun,30 Jan     70\n",
       "Mon,31 Jan     67\n",
       "Name: Date, dtype: int64"
      ]
     },
     "execution_count": 326,
     "metadata": {},
     "output_type": "execute_result"
    }
   ],
   "source": [
    "data_hyddel['Date'].value_counts()"
   ]
  },
  {
   "cell_type": "code",
   "execution_count": null,
   "metadata": {},
   "outputs": [],
   "source": []
  },
  {
   "cell_type": "code",
   "execution_count": 276,
   "metadata": {},
   "outputs": [
    {
     "data": {
      "text/plain": [
       "(752, 9)"
      ]
     },
     "execution_count": 276,
     "metadata": {},
     "output_type": "execute_result"
    }
   ],
   "source": [
    "data_bangkol.shape"
   ]
  },
  {
   "cell_type": "code",
   "execution_count": 275,
   "metadata": {},
   "outputs": [
    {
     "data": {
      "text/plain": [
       "Sun,10 Apr    133\n",
       "Thu,17 Mar    130\n",
       "Mon,28 Feb    125\n",
       "Wed,16 Feb    123\n",
       "Sat,5 Feb      87\n",
       "Mon,31 Jan     72\n",
       "Sun,30 Jan     69\n",
       "Sat,29 Jan     13\n",
       "Name: Date, dtype: int64"
      ]
     },
     "execution_count": 275,
     "metadata": {},
     "output_type": "execute_result"
    }
   ],
   "source": [
    "data_bangkol['Date'].value_counts()"
   ]
  },
  {
   "cell_type": "code",
   "execution_count": 451,
   "metadata": {},
   "outputs": [
    {
     "data": {
      "text/html": [
       "<div>\n",
       "<style scoped>\n",
       "    .dataframe tbody tr th:only-of-type {\n",
       "        vertical-align: middle;\n",
       "    }\n",
       "\n",
       "    .dataframe tbody tr th {\n",
       "        vertical-align: top;\n",
       "    }\n",
       "\n",
       "    .dataframe thead th {\n",
       "        text-align: right;\n",
       "    }\n",
       "</style>\n",
       "<table border=\"1\" class=\"dataframe\">\n",
       "  <thead>\n",
       "    <tr style=\"text-align: right;\">\n",
       "      <th></th>\n",
       "      <th>Date</th>\n",
       "      <th>Airline</th>\n",
       "      <th>Departure Time</th>\n",
       "      <th>Arrival Time</th>\n",
       "      <th>Stops</th>\n",
       "      <th>Source</th>\n",
       "      <th>Destination</th>\n",
       "      <th>Duration</th>\n",
       "      <th>Price</th>\n",
       "    </tr>\n",
       "  </thead>\n",
       "  <tbody>\n",
       "    <tr>\n",
       "      <th>0</th>\n",
       "      <td>Sat, 29 Jan</td>\n",
       "      <td>Go First</td>\n",
       "      <td>21:00</td>\n",
       "      <td>23:15</td>\n",
       "      <td>Non Stop</td>\n",
       "      <td>New Delhi</td>\n",
       "      <td>Mumbai</td>\n",
       "      <td>2h 15m</td>\n",
       "      <td>5,954</td>\n",
       "    </tr>\n",
       "    <tr>\n",
       "      <th>1</th>\n",
       "      <td>Sat, 29 Jan</td>\n",
       "      <td>Air India</td>\n",
       "      <td>18:00</td>\n",
       "      <td>20:00</td>\n",
       "      <td>Non Stop</td>\n",
       "      <td>New Delhi</td>\n",
       "      <td>Mumbai</td>\n",
       "      <td>2h 00m</td>\n",
       "      <td>5,955</td>\n",
       "    </tr>\n",
       "    <tr>\n",
       "      <th>2</th>\n",
       "      <td>Sat, 29 Jan</td>\n",
       "      <td>IndiGo</td>\n",
       "      <td>17:15</td>\n",
       "      <td>19:25</td>\n",
       "      <td>Non Stop</td>\n",
       "      <td>New Delhi</td>\n",
       "      <td>Mumbai</td>\n",
       "      <td>2h 10m</td>\n",
       "      <td>5,955</td>\n",
       "    </tr>\n",
       "    <tr>\n",
       "      <th>3</th>\n",
       "      <td>Sat, 29 Jan</td>\n",
       "      <td>IndiGo</td>\n",
       "      <td>18:40</td>\n",
       "      <td>20:50</td>\n",
       "      <td>Non Stop</td>\n",
       "      <td>New Delhi</td>\n",
       "      <td>Mumbai</td>\n",
       "      <td>2h 10m</td>\n",
       "      <td>5,955</td>\n",
       "    </tr>\n",
       "    <tr>\n",
       "      <th>4</th>\n",
       "      <td>Sat, 29 Jan</td>\n",
       "      <td>SpiceJet</td>\n",
       "      <td>19:30</td>\n",
       "      <td>21:40</td>\n",
       "      <td>Non Stop</td>\n",
       "      <td>New Delhi</td>\n",
       "      <td>Mumbai</td>\n",
       "      <td>2h 10m</td>\n",
       "      <td>5,955</td>\n",
       "    </tr>\n",
       "    <tr>\n",
       "      <th>...</th>\n",
       "      <td>...</td>\n",
       "      <td>...</td>\n",
       "      <td>...</td>\n",
       "      <td>...</td>\n",
       "      <td>...</td>\n",
       "      <td>...</td>\n",
       "      <td>...</td>\n",
       "      <td>...</td>\n",
       "      <td>...</td>\n",
       "    </tr>\n",
       "    <tr>\n",
       "      <th>127</th>\n",
       "      <td>Wed,8 June</td>\n",
       "      <td>SpiceJet</td>\n",
       "      <td>18:00</td>\n",
       "      <td>09:35\\n+ 1 day</td>\n",
       "      <td>1 Stop</td>\n",
       "      <td>Kolkata</td>\n",
       "      <td>Mumbai</td>\n",
       "      <td>15h 35m</td>\n",
       "      <td>13,449</td>\n",
       "    </tr>\n",
       "    <tr>\n",
       "      <th>128</th>\n",
       "      <td>Wed,8 June</td>\n",
       "      <td>SpiceJet</td>\n",
       "      <td>06:20</td>\n",
       "      <td>22:05</td>\n",
       "      <td>1 Stop</td>\n",
       "      <td>Kolkata</td>\n",
       "      <td>Mumbai</td>\n",
       "      <td>15h 45m</td>\n",
       "      <td>14,183</td>\n",
       "    </tr>\n",
       "    <tr>\n",
       "      <th>129</th>\n",
       "      <td>Wed,8 June</td>\n",
       "      <td>SpiceJet</td>\n",
       "      <td>06:20</td>\n",
       "      <td>21:05</td>\n",
       "      <td>1 Stop</td>\n",
       "      <td>Kolkata</td>\n",
       "      <td>Mumbai</td>\n",
       "      <td>14h 45m</td>\n",
       "      <td>14,499</td>\n",
       "    </tr>\n",
       "    <tr>\n",
       "      <th>130</th>\n",
       "      <td>Wed,8 June</td>\n",
       "      <td>SpiceJet</td>\n",
       "      <td>11:40</td>\n",
       "      <td>19:10</td>\n",
       "      <td>1 Stop</td>\n",
       "      <td>Kolkata</td>\n",
       "      <td>Mumbai</td>\n",
       "      <td>7h 30m</td>\n",
       "      <td>15,779</td>\n",
       "    </tr>\n",
       "    <tr>\n",
       "      <th>131</th>\n",
       "      <td>Wed,8 June</td>\n",
       "      <td>SpiceJet</td>\n",
       "      <td>06:50</td>\n",
       "      <td>19:10</td>\n",
       "      <td>1 Stop</td>\n",
       "      <td>Kolkata</td>\n",
       "      <td>Mumbai</td>\n",
       "      <td>12h 20m</td>\n",
       "      <td>22,185</td>\n",
       "    </tr>\n",
       "  </tbody>\n",
       "</table>\n",
       "<p>4169 rows × 9 columns</p>\n",
       "</div>"
      ],
      "text/plain": [
       "            Date    Airline Departure Time    Arrival Time     Stops  \\\n",
       "0    Sat, 29 Jan   Go First          21:00           23:15  Non Stop   \n",
       "1    Sat, 29 Jan  Air India          18:00           20:00  Non Stop   \n",
       "2    Sat, 29 Jan     IndiGo          17:15           19:25  Non Stop   \n",
       "3    Sat, 29 Jan     IndiGo          18:40           20:50  Non Stop   \n",
       "4    Sat, 29 Jan   SpiceJet          19:30           21:40  Non Stop   \n",
       "..           ...        ...            ...             ...       ...   \n",
       "127   Wed,8 June   SpiceJet          18:00  09:35\\n+ 1 day    1 Stop   \n",
       "128   Wed,8 June   SpiceJet          06:20           22:05    1 Stop   \n",
       "129   Wed,8 June   SpiceJet          06:20           21:05    1 Stop   \n",
       "130   Wed,8 June   SpiceJet          11:40           19:10    1 Stop   \n",
       "131   Wed,8 June   SpiceJet          06:50           19:10    1 Stop   \n",
       "\n",
       "        Source Destination Duration   Price  \n",
       "0    New Delhi      Mumbai   2h 15m   5,954  \n",
       "1    New Delhi      Mumbai   2h 00m   5,955  \n",
       "2    New Delhi      Mumbai   2h 10m   5,955  \n",
       "3    New Delhi      Mumbai   2h 10m   5,955  \n",
       "4    New Delhi      Mumbai   2h 10m   5,955  \n",
       "..         ...         ...      ...     ...  \n",
       "127    Kolkata      Mumbai  15h 35m  13,449  \n",
       "128    Kolkata      Mumbai  15h 45m  14,183  \n",
       "129    Kolkata      Mumbai  14h 45m  14,499  \n",
       "130    Kolkata      Mumbai   7h 30m  15,779  \n",
       "131    Kolkata      Mumbai  12h 20m  22,185  \n",
       "\n",
       "[4169 rows x 9 columns]"
      ]
     },
     "execution_count": 451,
     "metadata": {},
     "output_type": "execute_result"
    }
   ],
   "source": [
    "flight_data"
   ]
  },
  {
   "cell_type": "code",
   "execution_count": 449,
   "metadata": {},
   "outputs": [
    {
     "data": {
      "text/plain": [
       "(4169, 9)"
      ]
     },
     "execution_count": 449,
     "metadata": {},
     "output_type": "execute_result"
    }
   ],
   "source": [
    "flight_data.shape"
   ]
  },
  {
   "cell_type": "code",
   "execution_count": 452,
   "metadata": {},
   "outputs": [
    {
     "data": {
      "text/plain": [
       "New Delhi    851\n",
       "Name: Source, dtype: int64"
      ]
     },
     "execution_count": 452,
     "metadata": {},
     "output_type": "execute_result"
    }
   ],
   "source": [
    "data_delmum['Source'].value_counts()"
   ]
  },
  {
   "cell_type": "code",
   "execution_count": 454,
   "metadata": {},
   "outputs": [
    {
     "data": {
      "text/plain": [
       "Air India    1208\n",
       "Vistara      1049\n",
       "IndiGo        951\n",
       "Go First      500\n",
       "SpiceJet      242\n",
       "Air Asia      219\n",
       "Name: Airline, dtype: int64"
      ]
     },
     "execution_count": 454,
     "metadata": {},
     "output_type": "execute_result"
    }
   ],
   "source": [
    "flight_data['Airline'].value_counts()"
   ]
  },
  {
   "cell_type": "code",
   "execution_count": 453,
   "metadata": {},
   "outputs": [
    {
     "data": {
      "text/plain": [
       "Kolkata      1068\n",
       "New Delhi     851\n",
       "Hyderabad     797\n",
       "Bangalore     752\n",
       "Chennai       701\n",
       "Name: Source, dtype: int64"
      ]
     },
     "execution_count": 453,
     "metadata": {},
     "output_type": "execute_result"
    }
   ],
   "source": [
    "flight_data['Source'].value_counts()"
   ]
  },
  {
   "cell_type": "code",
   "execution_count": 455,
   "metadata": {},
   "outputs": [
    {
     "data": {
      "text/plain": [
       "Mumbai       1919\n",
       "New Delhi     797\n",
       "Kolkata       752\n",
       "Ahmedabad     701\n",
       "Name: Destination, dtype: int64"
      ]
     },
     "execution_count": 455,
     "metadata": {},
     "output_type": "execute_result"
    }
   ],
   "source": [
    "flight_data['Destination'].value_counts()"
   ]
  },
  {
   "cell_type": "code",
   "execution_count": 456,
   "metadata": {},
   "outputs": [],
   "source": [
    "flight_data.to_csv('flight_data.csv')"
   ]
  },
  {
   "cell_type": "code",
   "execution_count": null,
   "metadata": {},
   "outputs": [],
   "source": []
  }
 ],
 "metadata": {
  "kernelspec": {
   "display_name": "Python 3",
   "language": "python",
   "name": "python3"
  },
  "language_info": {
   "codemirror_mode": {
    "name": "ipython",
    "version": 3
   },
   "file_extension": ".py",
   "mimetype": "text/x-python",
   "name": "python",
   "nbconvert_exporter": "python",
   "pygments_lexer": "ipython3",
   "version": "3.8.5"
  }
 },
 "nbformat": 4,
 "nbformat_minor": 4
}
